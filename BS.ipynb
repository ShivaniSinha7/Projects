{
  "cells": [
    {
      "cell_type": "markdown",
      "id": "518efe1c-da13-465c-b62a-0e38ae6f110c",
      "metadata": {
        "id": "518efe1c-da13-465c-b62a-0e38ae6f110c",
        "tags": []
      },
      "source": [
        "# Backgroud Subtraction using Averaging method, K-Means and Gaussian Mixture Models"
      ]
    },
    {
      "cell_type": "code",
      "execution_count": 2,
      "id": "a1e7d9be-241c-4e93-aefe-36d5ffddb4df",
      "metadata": {
        "execution": {
          "iopub.execute_input": "2023-03-08T11:21:25.323288Z",
          "iopub.status.busy": "2023-03-08T11:21:25.322925Z",
          "iopub.status.idle": "2023-03-08T11:21:26.039733Z",
          "shell.execute_reply": "2023-03-08T11:21:26.039124Z",
          "shell.execute_reply.started": "2023-03-08T11:21:25.323265Z"
        },
        "id": "a1e7d9be-241c-4e93-aefe-36d5ffddb4df",
        "tags": []
      },
      "outputs": [],
      "source": [
        "import os\n",
        "import numpy as np\n",
        "import matplotlib.pyplot as plt\n",
        "%matplotlib inline\n",
        "\n",
        "import cv2\n",
        "from google.colab.patches import cv2_imshow"
      ]
    },
    {
      "cell_type": "code",
      "execution_count": 47,
      "id": "4c8b4171-3b73-4e4b-b123-29b20235002e",
      "metadata": {
        "id": "4c8b4171-3b73-4e4b-b123-29b20235002e",
        "tags": []
      },
      "outputs": [],
      "source": [
        "from scipy.stats import multivariate_normal\n",
        "class GMM(object):\n",
        "    \n",
        "    def __init__(self, n_components=1, tol=1e-3, max_iter=100):\n",
        "        \n",
        "        self.n_components = n_components\n",
        "        self.tol = tol\n",
        "        self.max_iter = max_iter\n",
        "        self.reg_cov = 1e-6*np.identity(len(X[0]))\n",
        "\n",
        "    def initialize_params(self, X, kmeans=False):\n",
        "       \n",
        "        self.n, self.m = X.shape\n",
        "        self.phi = np.full(shape=self.n_components, fill_value=1/self.n_components)\n",
        "        self.weights = np.full(shape=X.shape, fill_value=1/self.n_components)\n",
        "\n",
        "        random_row = np.random.randint(low=0, high=self.n, size=self.n_components)\n",
        "        self.mu = [  X[i,:] for i in random_row ]\n",
        "        self.sigma = [ np.cov(X.T) for _ in range(self.n_components) ]\n",
        "  \n",
        "    def E_step(self, X):\n",
        "\n",
        "        likelihood = np.zeros((self.n, self.n_components))\n",
        "       \n",
        "        for i in range(self.n_components):\n",
        "          distribution=multivariate_normal(mean = self.mu[i], cov=self.sigma[i]+self.reg_cov, allow_singular=True)\n",
        "          likelihood[:,i] = distribution.pdf(X)\n",
        "        \n",
        "        numerator = likelihood * self.phi\n",
        "        denominator = numerator.sum(axis=1)[:, np.newaxis]\n",
        "\n",
        "        self.weights = numerator/denominator\n",
        "        self.phi = self.weights.mean(axis=0)\n",
        "\n",
        "    def M_step(self, X):\n",
        "        \n",
        "        for i in range(self.n_components):\n",
        "          weight = self.weights[:, [i]]\n",
        "          total_weight = weight.sum()\n",
        "          self.mu[i] = (X * weight).sum(axis=0) / total_weight\n",
        "          self.sigma[i] = np.cov(X.T, aweights=(weight/total_weight).flatten(), bias=True)\n",
        "\n",
        "    def fit(self, X, y=None):\n",
        "       \n",
        "        self.initialize_params(X)\n",
        "        \n",
        "        for iteration in range(self.max_iter):\n",
        "          self.E_step(X)\n",
        "          self.M_step(X)\n",
        "        return self.mu, self.sigma, self.phi\n",
        "        \n",
        "    def predict(self, X):\n",
        "        \n",
        "        self.n, self.m = X.shape\n",
        "        likelihood = np.zeros((self.n, self.n_components))\n",
        "      \n",
        "        for i in range(self.n_components):\n",
        "          distribution=multivariate_normal(mean = self.mu[i], cov=self.sigma[i]+self.reg_cov, allow_singular=True)\n",
        "          likelihood[:,i] = distribution.pdf(X)\n",
        "        \n",
        "        numerator = likelihood * self.phi\n",
        "        denominator = numerator.sum(axis=1)[:, np.newaxis]\n",
        "\n",
        "        weights = numerator/denominator\n",
        "        return np.argmax(weights, axis=1)"
      ]
    },
    {
      "cell_type": "code",
      "execution_count": 32,
      "id": "o1e306osHTNn",
      "metadata": {
        "colab": {
          "base_uri": "https://localhost:8080/"
        },
        "id": "o1e306osHTNn",
        "outputId": "8e908544-92cc-4211-e38f-80ded7bf51b5"
      },
      "outputs": [
        {
          "name": "stdout",
          "output_type": "stream",
          "text": [
            "Drive already mounted at /content/drive; to attempt to forcibly remount, call drive.mount(\"/content/drive\", force_remount=True).\n"
          ]
        }
      ],
      "source": [
        "from google.colab import drive\n",
        "drive.mount('/content/drive')"
      ]
    },
    {
      "cell_type": "markdown",
      "id": "535a6266-8fe6-4b8a-8f40-5e0e3c8721c8",
      "metadata": {
        "id": "535a6266-8fe6-4b8a-8f40-5e0e3c8721c8",
        "jp-MarkdownHeadingCollapsed": true,
        "tags": []
      },
      "source": [
        "# Background Subtraction\n",
        "\n",
        "- Foreground detection is one of the major tasks in the field of computer vision and image processing, whose aim is to detect changes in image sequences. \n",
        "- Background subtraction is any technique which allows an image's foreground to be extracted for further processing (object recognition, etc.).\n",
        "\n",
        "One of the most important applications of this is Foreground Detection on Highways for speeding vehicles. \n",
        "Before the Deep Learning age, methods using GMMs were considered very effective in accurately detecting vehicles on highways. \n",
        "\n",
        "![traffic](./videos/traffic.gif)\n",
        "\n",
        "In this question, you are required to extract the background image from a given set of training frames, and use the extracted background to display foreground objects in the test frames by subtracting that background image and then thresholding it accordingly. As you can see one of the drawbacks of simply doing this is that changing environments and lighting would severly affect this method, so we are also going to explore Adaptive GMM which takes care of such problems.\n",
        "\n",
        "(Note: The Segmentation GIF show below is a reference for the expected output, and since it is extracted just from the test frames, it is not in sync with the full GIF given above, so don't be confused)\n",
        "\n",
        "(Another Note: The Segmentation GIF displays everything that is not the background, i.e. foreground objects, in White, and not just the white cars.)\n",
        "\n",
        "![reference](./extras/traffic_reference.gif)\n",
        "\n",
        "In this question, we are going to try different baselines to extract background from low resolution camera footage:\n",
        "\n",
        "1. Frame Averaging:\n",
        "    - Just take the average of every training frame, which gives us an approximate background image.\n",
        "    \n",
        "2. GMM Per Pixel:\n",
        "    - We will maintain per pixel GMMs of 2 components, and then fit these GMMs considering every training from for its corresponding pixel.\n",
        "    - And then use these GMMs to predict the pixel labels for every subsequent frame.\n",
        "    - Hint: Most of the time, the Gaussian with the higher weight corresponds to the background.\n",
        "    - Hint-2: We can implement this in a simpler way but with worse prediction results, you can extract a mean background image similar to (baseline - 1).\n",
        "    To extract the Mean background image, we can assign values of the Means corresponding to the highest weighted Gaussian for each pixel.\n",
        "    This method is much simpler to implement but, this could give worse results.\n",
        "    \n",
        "3. K-Means Per Pixel:\n",
        "    - Similar approach to GMMs per pixel.\n",
        "\n",
        "4. Adaptive GMM Per Pixel (Not part of the assignment):\n",
        "    - We can update GMMs without fitting them for every subsequent frame.\n",
        "    - The biggest advantage of this method is that it can be used in real time tracking and will also adapt to change in environments and lighting.\n",
        "    - Note: This is not part of the assignment, only meant for enthusiasts who want to explore."
      ]
    },
    {
      "cell_type": "markdown",
      "id": "7a05a728-7e46-4875-8202-a2f4c15474ef",
      "metadata": {
        "id": "7a05a728-7e46-4875-8202-a2f4c15474ef",
        "jp-MarkdownHeadingCollapsed": true,
        "tags": []
      },
      "source": [
        "### Extracting Frames from videos"
      ]
    },
    {
      "cell_type": "code",
      "execution_count": 58,
      "id": "4bce85da-089c-49cb-a145-262f888e16a6",
      "metadata": {
        "colab": {
          "base_uri": "https://localhost:8080/",
          "height": 35
        },
        "execution": {
          "iopub.execute_input": "2023-03-08T04:08:37.130369Z",
          "iopub.status.busy": "2023-03-08T04:08:37.129961Z",
          "iopub.status.idle": "2023-03-08T04:08:37.135022Z",
          "shell.execute_reply": "2023-03-08T04:08:37.133398Z",
          "shell.execute_reply.started": "2023-03-08T04:08:37.130341Z"
        },
        "id": "4bce85da-089c-49cb-a145-262f888e16a6",
        "outputId": "3d38970a-d8e8-4cfd-ac64-4ca35c12175f"
      },
      "outputs": [
        {
          "data": {
            "application/vnd.google.colaboratory.intrinsic+json": {
              "type": "string"
            },
            "text/plain": [
              "'./drive/MyDrive/SMAI_Assignment_3_v3/Q2/videos/traffic.gif'"
            ]
          },
          "execution_count": 58,
          "metadata": {},
          "output_type": "execute_result"
        }
      ],
      "source": [
        "source_folder = 'drive/MyDrive/SMAI_Assignment_3_v3/Q2/videos'\n",
        "video = 'traffic.gif'\n",
        "\n",
        "source_path = f'./{source_folder}/{video}'\n",
        "source_path"
      ]
    },
    {
      "cell_type": "code",
      "execution_count": 59,
      "id": "26ff69e5-55c6-4351-ba5c-4f09f1affe4c",
      "metadata": {
        "execution": {
          "iopub.execute_input": "2023-03-08T04:08:37.136732Z",
          "iopub.status.busy": "2023-03-08T04:08:37.136360Z",
          "iopub.status.idle": "2023-03-08T04:08:37.141945Z",
          "shell.execute_reply": "2023-03-08T04:08:37.140639Z",
          "shell.execute_reply.started": "2023-03-08T04:08:37.136693Z"
        },
        "id": "26ff69e5-55c6-4351-ba5c-4f09f1affe4c",
        "tags": []
      },
      "outputs": [],
      "source": [
        "data_folder = 'drive/MyDrive/SMAI_Assignment_3_v3/Q2/frames'\n",
        "\n",
        "frames_path = f\"./{data_folder}/{video.rsplit('.', 1)[0]}\"\n",
        "# print(frames_path)\n",
        "import os\n",
        "# print(os.getcwd())"
      ]
    },
    {
      "cell_type": "code",
      "execution_count": 60,
      "id": "ec1404b3-0318-4d1d-a4f8-cd1ad32c312c",
      "metadata": {
        "execution": {
          "iopub.execute_input": "2023-03-08T04:08:37.143793Z",
          "iopub.status.busy": "2023-03-08T04:08:37.143330Z",
          "iopub.status.idle": "2023-03-08T04:08:37.276702Z",
          "shell.execute_reply": "2023-03-08T04:08:37.275738Z",
          "shell.execute_reply.started": "2023-03-08T04:08:37.143758Z"
        },
        "id": "ec1404b3-0318-4d1d-a4f8-cd1ad32c312c"
      },
      "outputs": [],
      "source": [
        "%%capture\n",
        "\n",
        "!mkdir -p {frames_path} > /dev/null ;"
      ]
    },
    {
      "cell_type": "code",
      "execution_count": 61,
      "id": "dc493fa5-d2fb-4354-8eec-aa3daa3e3804",
      "metadata": {
        "execution": {
          "iopub.execute_input": "2023-03-08T04:08:37.278274Z",
          "iopub.status.busy": "2023-03-08T04:08:37.277897Z",
          "iopub.status.idle": "2023-03-08T04:08:37.518249Z",
          "shell.execute_reply": "2023-03-08T04:08:37.517372Z",
          "shell.execute_reply.started": "2023-03-08T04:08:37.278239Z"
        },
        "id": "dc493fa5-d2fb-4354-8eec-aa3daa3e3804"
      },
      "outputs": [],
      "source": [
        "%%capture\n",
        "\n",
        "!ffmpeg -i {source_path} {frames_path}/'frame_%04d.png' > /dev/null ;"
      ]
    },
    {
      "cell_type": "markdown",
      "id": "e121347b-6089-4cf0-bc6e-1a341a48c397",
      "metadata": {
        "id": "e121347b-6089-4cf0-bc6e-1a341a48c397",
        "jp-MarkdownHeadingCollapsed": true,
        "tags": []
      },
      "source": [
        "### Loading Frames"
      ]
    },
    {
      "cell_type": "code",
      "execution_count": 62,
      "id": "9989bdab-245a-4c67-bc3e-c2067e9a72ab",
      "metadata": {
        "execution": {
          "iopub.execute_input": "2023-03-08T04:08:37.519762Z",
          "iopub.status.busy": "2023-03-08T04:08:37.519393Z",
          "iopub.status.idle": "2023-03-08T04:08:37.581165Z",
          "shell.execute_reply": "2023-03-08T04:08:37.580447Z",
          "shell.execute_reply.started": "2023-03-08T04:08:37.519727Z"
        },
        "id": "9989bdab-245a-4c67-bc3e-c2067e9a72ab"
      },
      "outputs": [],
      "source": [
        "import glob\n",
        "\n",
        "frames = []\n",
        "\n",
        "for file_path in sorted(glob.glob(f'{frames_path}/*.png', recursive = False)):\n",
        "    img = cv2.imread(file_path)\n",
        "    img = cv2.cvtColor(img, cv2.COLOR_BGR2RGB)\n",
        "    \n",
        "    img = np.asarray(img, dtype=np.float64)\n",
        "    img /= 255.0\n",
        "    \n",
        "    frames.append(img)\n",
        "    \n",
        "frames = np.asarray(frames, dtype=np.float64)"
      ]
    },
    {
      "cell_type": "code",
      "execution_count": 63,
      "id": "RpwYBt8ES1CI",
      "metadata": {
        "id": "RpwYBt8ES1CI"
      },
      "outputs": [],
      "source": [
        "from google.colab.patches import cv2_imshow\n",
        "import numpy as np\n",
        "\n",
        "cap = cv2.VideoCapture(source_path)\n",
        "frames = []\n",
        "while True:\n",
        "    ret, frame = cap.read()\n",
        "    if not ret:\n",
        "        break\n",
        "    frames.append(frame)\n",
        "cap.release()\n",
        "frames = np.asarray(frames, dtype=np.float64)"
      ]
    },
    {
      "cell_type": "code",
      "execution_count": 64,
      "id": "AVIAxTjSabiu",
      "metadata": {
        "colab": {
          "base_uri": "https://localhost:8080/"
        },
        "id": "AVIAxTjSabiu",
        "outputId": "23ae1290-50aa-4bf4-c8e8-cc8fbcf1352a"
      },
      "outputs": [
        {
          "data": {
            "text/plain": [
              "(80, 120, 160, 3)"
            ]
          },
          "execution_count": 64,
          "metadata": {},
          "output_type": "execute_result"
        }
      ],
      "source": [
        "frames.shape"
      ]
    },
    {
      "cell_type": "markdown",
      "id": "d3e589fc-902a-419d-8c9a-13311fcab7ea",
      "metadata": {
        "id": "d3e589fc-902a-419d-8c9a-13311fcab7ea",
        "jp-MarkdownHeadingCollapsed": true,
        "tags": []
      },
      "source": [
        "### Splitting the data"
      ]
    },
    {
      "cell_type": "code",
      "execution_count": 65,
      "id": "f859993a-2b29-4baf-a168-117151ed240b",
      "metadata": {
        "colab": {
          "base_uri": "https://localhost:8080/"
        },
        "execution": {
          "iopub.execute_input": "2023-03-08T04:08:37.582241Z",
          "iopub.status.busy": "2023-03-08T04:08:37.581978Z",
          "iopub.status.idle": "2023-03-08T04:08:37.596804Z",
          "shell.execute_reply": "2023-03-08T04:08:37.595584Z",
          "shell.execute_reply.started": "2023-03-08T04:08:37.582220Z"
        },
        "id": "f859993a-2b29-4baf-a168-117151ed240b",
        "outputId": "5d515df6-21af-4ba2-8a1a-2b47060ddb92"
      },
      "outputs": [
        {
          "name": "stdout",
          "output_type": "stream",
          "text": [
            "frame: (80, 120, 160, 3)\n",
            "train_frames: (48, 120, 160, 3)\n",
            "test_frames: (32, 120, 160, 3)\n"
          ]
        }
      ],
      "source": [
        "from sklearn.model_selection import train_test_split\n",
        "\n",
        "print(f'frame: {frames.shape}')\n",
        "\n",
        "# train_frames, test_frames = train_test_split(frames, train_size=0.6, shuffle=True, random_state=1)\n",
        "train_frames, test_frames = train_test_split(frames, train_size=0.6, shuffle=False) # Do Not Shuffle!\n",
        "\n",
        "print(f'train_frames: {train_frames.shape}')\n",
        "print(f'test_frames: {test_frames.shape}')"
      ]
    },
    {
      "cell_type": "markdown",
      "id": "7cebb520-1657-432d-959d-eec893cb9b44",
      "metadata": {
        "id": "7cebb520-1657-432d-959d-eec893cb9b44",
        "jp-MarkdownHeadingCollapsed": true,
        "tags": []
      },
      "source": [
        "## 1. Frame Averaging"
      ]
    },
    {
      "cell_type": "markdown",
      "id": "294cde52-9826-44da-a5c2-cc280b96c074",
      "metadata": {
        "id": "294cde52-9826-44da-a5c2-cc280b96c074",
        "jp-MarkdownHeadingCollapsed": true,
        "tags": []
      },
      "source": [
        "### Extract Background Image from the training data"
      ]
    },
    {
      "cell_type": "code",
      "execution_count": 66,
      "id": "Mucp3H1JTRTA",
      "metadata": {
        "id": "Mucp3H1JTRTA"
      },
      "outputs": [],
      "source": [
        "def frameAvg(frames):\n",
        "  background = np.mean(frames, axis=0)\n",
        "  cv2_imshow(background)\n",
        "  return background"
      ]
    },
    {
      "cell_type": "markdown",
      "id": "66f1bbd7-0dbe-4a5b-bc67-96ee01ae5dca",
      "metadata": {
        "id": "66f1bbd7-0dbe-4a5b-bc67-96ee01ae5dca",
        "jp-MarkdownHeadingCollapsed": true,
        "tags": []
      },
      "source": [
        "### Visualize "
      ]
    },
    {
      "cell_type": "code",
      "execution_count": 67,
      "id": "ac2751b6-0c94-45b7-bbf7-8fa5a3c31034",
      "metadata": {
        "id": "ac2751b6-0c94-45b7-bbf7-8fa5a3c31034"
      },
      "outputs": [],
      "source": [
        "def visualize1(pred, filename):\n",
        "  print(\"Display Frames: \")\n",
        "  display_frames(pred)\n",
        "  print(\"Saving Frames: \")\n",
        "  save_frames(pred,file_name = filename)"
      ]
    },
    {
      "cell_type": "markdown",
      "id": "02d2467a-d1ea-4374-9879-fbe2555e6340",
      "metadata": {
        "id": "02d2467a-d1ea-4374-9879-fbe2555e6340",
        "jp-MarkdownHeadingCollapsed": true,
        "tags": []
      },
      "source": [
        "## 2. GMMs per pixel"
      ]
    },
    {
      "cell_type": "markdown",
      "id": "17b08135-acc3-4a7f-8d9e-11d9d2e15507",
      "metadata": {
        "id": "17b08135-acc3-4a7f-8d9e-11d9d2e15507",
        "jp-MarkdownHeadingCollapsed": true,
        "tags": []
      },
      "source": [
        "### Create Set of GMMs for every pixel and fit them considering every training frame"
      ]
    },
    {
      "cell_type": "code",
      "execution_count": 83,
      "id": "nMdrR7DZJ0P1",
      "metadata": {
        "id": "nMdrR7DZJ0P1"
      },
      "outputs": [],
      "source": [
        "gmm = GMM(n_components = 2, tol=0.001, max_iter=10)\n",
        "background_g = np.zeros(shape=(frames.shape[1:]))\n",
        "\n",
        "for i in range(frames.shape[1]):\n",
        "    for j in range(frames.shape[2]):\n",
        "        for k in range(frames.shape[3]):\n",
        "            X = frames[:, i, j, k]\n",
        "            X = X.reshape(X.shape[0], 1)\n",
        "            means, covars, weights = gmm.fit(X)\n",
        "            idx = np.argmax(weights)\n",
        "            background_g[i][j][k] = int(means[idx])"
      ]
    },
    {
      "cell_type": "markdown",
      "id": "b046f7c9-1950-4704-a62a-f0f27079f95d",
      "metadata": {
        "id": "b046f7c9-1950-4704-a62a-f0f27079f95d",
        "jp-MarkdownHeadingCollapsed": true,
        "tags": []
      },
      "source": [
        "### Extract Background Image from the trained model"
      ]
    },
    {
      "cell_type": "code",
      "execution_count": 50,
      "id": "511078b9-35a9-4712-9e54-a7248187c7e6",
      "metadata": {
        "colab": {
          "base_uri": "https://localhost:8080/"
        },
        "execution": {
          "iopub.execute_input": "2023-03-08T07:55:43.637039Z",
          "iopub.status.busy": "2023-03-08T07:55:43.635874Z",
          "iopub.status.idle": "2023-03-08T07:55:43.646623Z",
          "shell.execute_reply": "2023-03-08T07:55:43.644632Z",
          "shell.execute_reply.started": "2023-03-08T07:55:43.636977Z"
        },
        "id": "511078b9-35a9-4712-9e54-a7248187c7e6",
        "outputId": "411bf4bc-5c95-4177-e21a-c0c422bcb706",
        "tags": []
      },
      "outputs": [
        {
          "data": {
            "text/plain": [
              "True"
            ]
          },
          "execution_count": 50,
          "metadata": {},
          "output_type": "execute_result"
        }
      ],
      "source": [
        "#  cv2.imwrite('background1.png', background)"
      ]
    },
    {
      "cell_type": "markdown",
      "id": "8931a716-6f8c-49bc-8bfd-9cafa2fef500",
      "metadata": {
        "id": "8931a716-6f8c-49bc-8bfd-9cafa2fef500",
        "jp-MarkdownHeadingCollapsed": true,
        "tags": []
      },
      "source": [
        "### Visualize "
      ]
    },
    {
      "cell_type": "code",
      "execution_count": 84,
      "id": "9a8991e4-9196-4891-a516-86058ed4f493",
      "metadata": {
        "execution": {
          "iopub.execute_input": "2023-03-08T07:55:43.637039Z",
          "iopub.status.busy": "2023-03-08T07:55:43.635874Z",
          "iopub.status.idle": "2023-03-08T07:55:43.646623Z",
          "shell.execute_reply": "2023-03-08T07:55:43.644632Z",
          "shell.execute_reply.started": "2023-03-08T07:55:43.636977Z"
        },
        "id": "9a8991e4-9196-4891-a516-86058ed4f493",
        "tags": []
      },
      "outputs": [],
      "source": [
        "def visualize2(pred, filename):\n",
        "  print(\"Display Frames: \")\n",
        "  display_frames(pred)\n",
        "  print(\"Saving Frames: \")\n",
        "  save_frames(pred,file_name = filename)"
      ]
    },
    {
      "cell_type": "markdown",
      "id": "7fc0b625-ccba-4790-bd74-1b1ecc85ddb1",
      "metadata": {
        "id": "7fc0b625-ccba-4790-bd74-1b1ecc85ddb1",
        "jp-MarkdownHeadingCollapsed": true,
        "tags": []
      },
      "source": [
        "## 3. Extracting Background using K-Means"
      ]
    },
    {
      "cell_type": "code",
      "execution_count": 85,
      "id": "xea9XcwEcUA1",
      "metadata": {
        "colab": {
          "base_uri": "https://localhost:8080/"
        },
        "id": "xea9XcwEcUA1",
        "outputId": "cb7a1448-5813-466a-b8e7-d625c2a1a2ad"
      },
      "outputs": [
        {
          "name": "stderr",
          "output_type": "stream",
          "text": [
            "<ipython-input-85-5110f52cc8f8>:10: ConvergenceWarning: Number of distinct clusters (1) found smaller than n_clusters (2). Possibly due to duplicate points in X.\n",
            "  kmeans.fit(X)\n",
            "<ipython-input-85-5110f52cc8f8>:10: ConvergenceWarning: Number of distinct clusters (1) found smaller than n_clusters (2). Possibly due to duplicate points in X.\n",
            "  kmeans.fit(X)\n",
            "<ipython-input-85-5110f52cc8f8>:10: ConvergenceWarning: Number of distinct clusters (1) found smaller than n_clusters (2). Possibly due to duplicate points in X.\n",
            "  kmeans.fit(X)\n"
          ]
        }
      ],
      "source": [
        "from sklearn.cluster import KMeans\n",
        "kmeans = KMeans(n_clusters=2, n_init = 'auto', random_state=0)\n",
        "background_k = np.zeros(shape=(frames.shape[1:]))\n",
        "\n",
        "for i in range(frames.shape[1]):\n",
        "    for j in range(frames.shape[2]):\n",
        "        for k in range(frames.shape[3]):\n",
        "            X = frames[:, i, j, k]\n",
        "            X = X.reshape(X.shape[0], 1)\n",
        "            kmeans.fit(X)\n",
        "            labels = kmeans.labels_\n",
        "            centers = kmeans.cluster_centers_\n",
        "            label0 = list(labels).count(0)\n",
        "            label1 = list(labels).count(1)\n",
        "            if(label0 >= label1):\n",
        "              background_k[i][j][k] = centers[0]\n",
        "            else:\n",
        "              background_k[i][j][k] = centers[1]"
      ]
    },
    {
      "cell_type": "markdown",
      "id": "bc67b7e5-1436-44e5-879f-a568ec291b73",
      "metadata": {
        "id": "bc67b7e5-1436-44e5-879f-a568ec291b73",
        "jp-MarkdownHeadingCollapsed": true,
        "tags": []
      },
      "source": [
        "### Extract Background Image from the trained model"
      ]
    },
    {
      "cell_type": "markdown",
      "id": "722a0e44-45f0-47f0-8d1f-6580b3aa430a",
      "metadata": {
        "id": "722a0e44-45f0-47f0-8d1f-6580b3aa430a",
        "jp-MarkdownHeadingCollapsed": true,
        "tags": []
      },
      "source": [
        "### Visualize "
      ]
    },
    {
      "cell_type": "code",
      "execution_count": 86,
      "id": "e8eb2b81-b7cb-4bbd-82ef-49b30923a9d6",
      "metadata": {
        "execution": {
          "iopub.execute_input": "2023-03-08T07:55:43.637039Z",
          "iopub.status.busy": "2023-03-08T07:55:43.635874Z",
          "iopub.status.idle": "2023-03-08T07:55:43.646623Z",
          "shell.execute_reply": "2023-03-08T07:55:43.644632Z",
          "shell.execute_reply.started": "2023-03-08T07:55:43.636977Z"
        },
        "id": "e8eb2b81-b7cb-4bbd-82ef-49b30923a9d6",
        "tags": []
      },
      "outputs": [],
      "source": [
        "def visualize3(pred, filename):\n",
        "  print(\"Display Frames: \")\n",
        "  display_frames(pred)\n",
        "  print(\"Saving Frames: \")\n",
        "  save_frames(pred,file_name = filename)"
      ]
    },
    {
      "cell_type": "markdown",
      "id": "574312ff-d2c4-43fa-b736-1223149d382d",
      "metadata": {
        "execution": {
          "iopub.execute_input": "2023-03-08T12:26:44.606685Z",
          "iopub.status.busy": "2023-03-08T12:26:44.606382Z",
          "iopub.status.idle": "2023-03-08T12:26:44.611295Z",
          "shell.execute_reply": "2023-03-08T12:26:44.610174Z",
          "shell.execute_reply.started": "2023-03-08T12:26:44.606661Z"
        },
        "id": "574312ff-d2c4-43fa-b736-1223149d382d",
        "jp-MarkdownHeadingCollapsed": true,
        "tags": []
      },
      "source": [
        "### Displaying frames as videos"
      ]
    },
    {
      "cell_type": "code",
      "execution_count": 69,
      "id": "7013953b-371b-4111-ba54-cd630b64bec6",
      "metadata": {
        "execution": {
          "iopub.execute_input": "2023-03-08T04:14:25.992340Z",
          "iopub.status.busy": "2023-03-08T04:14:25.991943Z",
          "iopub.status.idle": "2023-03-08T04:14:26.000713Z",
          "shell.execute_reply": "2023-03-08T04:14:25.999863Z",
          "shell.execute_reply.started": "2023-03-08T04:14:25.992307Z"
        },
        "id": "7013953b-371b-4111-ba54-cd630b64bec6",
        "tags": []
      },
      "outputs": [],
      "source": [
        "def display_frames(frames, fps=10.0):\n",
        "    eps = 0.0001\n",
        "    \n",
        "    wait_time = int(1000 // fps)\n",
        "    \n",
        "    for frame in frames:\n",
        "        frame = frame.astype(np.float64)\n",
        "        frame = (frame - frame.min()) * 255 / (frame.max() - frame.min() + eps)\n",
        "        frame = frame.astype(np.uint8)\n",
        "        \n",
        "        frame = cv2.cvtColor(frame, cv2.COLOR_RGB2BGR)\n",
        "\n",
        "        threshold_value = 100\n",
        "        _, img_thresholded = cv2.threshold(frame, threshold_value, 255, cv2.THRESH_BINARY_INV)\n",
        "        \n",
        "        cv2_imshow(img_thresholded)\n",
        "        \n",
        "        k = cv2.waitKey(wait_time)\n",
        "\n",
        "        if k == ord('q'):\n",
        "            print(\"Quitting...\")\n",
        "            break\n",
        "    \n",
        "    cv2.destroyAllWindows()"
      ]
    },
    {
      "cell_type": "markdown",
      "id": "b7bdee44-0b5f-4c0d-be07-82c8454d063a",
      "metadata": {
        "execution": {
          "iopub.execute_input": "2023-03-08T12:26:44.606685Z",
          "iopub.status.busy": "2023-03-08T12:26:44.606382Z",
          "iopub.status.idle": "2023-03-08T12:26:44.611295Z",
          "shell.execute_reply": "2023-03-08T12:26:44.610174Z",
          "shell.execute_reply.started": "2023-03-08T12:26:44.606661Z"
        },
        "id": "b7bdee44-0b5f-4c0d-be07-82c8454d063a",
        "jp-MarkdownHeadingCollapsed": true,
        "tags": []
      },
      "source": [
        "### Saving frames as videos"
      ]
    },
    {
      "cell_type": "code",
      "execution_count": 79,
      "id": "_cEdYBCwB4Qh",
      "metadata": {
        "id": "_cEdYBCwB4Qh"
      },
      "outputs": [],
      "source": [
        "os.makedirs('./drive/MyDrive/SMAI_Assignment_3_v3/Q2/results', exist_ok=True)"
      ]
    },
    {
      "cell_type": "code",
      "execution_count": 80,
      "id": "5980f45c-9c3d-444d-8e38-b84eef97b444",
      "metadata": {
        "execution": {
          "iopub.execute_input": "2023-03-08T04:14:26.002792Z",
          "iopub.status.busy": "2023-03-08T04:14:26.002311Z",
          "iopub.status.idle": "2023-03-08T04:14:26.012009Z",
          "shell.execute_reply": "2023-03-08T04:14:26.011293Z",
          "shell.execute_reply.started": "2023-03-08T04:14:26.002759Z"
        },
        "id": "5980f45c-9c3d-444d-8e38-b84eef97b444",
        "tags": []
      },
      "outputs": [],
      "source": [
        "def save_frames(frames, file_name, fps=10.0, output_path='./drive/MyDrive/SMAI_Assignment_3_v3/Q2/results'):\n",
        "    eps = 0.0001\n",
        "    \n",
        "    frame_rate = float(fps)\n",
        "    frame_size = (int(frames[0].shape[1]), int(frames[0].shape[0]))\n",
        "    wait_time = int(1000 // fps)\n",
        "    \n",
        "    fourcc = cv2.VideoWriter_fourcc(*'mp4v')\n",
        "    # fourcc = cv2.VideoWriter_fourcc(*'XVID')\n",
        "    \n",
        "    save_path = os.path.join(output_path, f\"{file_name.rsplit('.', 1)[0]}.mp4\")\n",
        "    # save_path = os.path.join(output_path, f\"{file_name.rsplit('.')[0]}.avi\")\n",
        "    \n",
        "    vid_wrt = cv2.VideoWriter(save_path, fourcc, frame_rate, frame_size)\n",
        "\n",
        "    for frame in frames:\n",
        "        frame = frame.astype(np.float64)\n",
        "        frame = (frame - frame.min()) * 255 / (frame.max() - frame.min() + eps)\n",
        "        frame = frame.astype(np.uint8)\n",
        "        \n",
        "        frame = cv2.cvtColor(frame, cv2.COLOR_RGB2BGR)\n",
        "        threshold_value = 100\n",
        "        _, img_thresholded = cv2.threshold(frame, threshold_value, 255, cv2.THRESH_BINARY_INV)\n",
        "        \n",
        "        print(img_thresholded.shape)\n",
        "        cv2_imshow(img_thresholded)\n",
        "\n",
        "        if cv2.waitKey(wait_time) & 0xFF == ord('q'):\n",
        "            break\n",
        "        \n",
        "        vid_wrt.write(img_thresholded)\n",
        "\n",
        "        \n",
        "    vid_wrt.release()\n",
        "    cv2.destroyAllWindows()"
      ]
    },
    {
      "cell_type": "markdown",
      "id": "68505dec-141f-463d-be72-020fca8e98da",
      "metadata": {
        "id": "68505dec-141f-463d-be72-020fca8e98da",
        "jp-MarkdownHeadingCollapsed": true,
        "tags": []
      },
      "source": [
        "### 1. Frame Averaging"
      ]
    },
    {
      "cell_type": "code",
      "execution_count": 81,
      "id": "d9dWYzRZWmxQ",
      "metadata": {
        "colab": {
          "base_uri": "https://localhost:8080/",
          "height": 137
        },
        "id": "d9dWYzRZWmxQ",
        "outputId": "25973655-c276-4b70-89ba-293ec1cede23"
      },
      "outputs": [
        {
          "data": {
            "image/png": "[encoded data removed]",
            "text/plain": [
              "<PIL.Image.Image image mode=RGB size=160x120 at 0x7F6512FB7FA0>"
            ]
          },
          "metadata": {},
          "output_type": "display_data"
        }
      ],
      "source": [
        "background_A = frameAvg(train_frames)\n",
        "y_pred1 = test_frames - background_A"
      ]
    },
    {
      "cell_type": "code",
      "execution_count": 82,
      "id": "_GSTWho1X1gb",
      "metadata": {
        "colab": {
          "base_uri": "https://localhost:8080/",
          "height": 1000
        },
        "id": "_GSTWho1X1gb",
        "outputId": "8f184fac-a8cf-496d-fc47-88d20732dcf4"
      },
      "outputs": [
        {
          "name": "stdout",
          "output_type": "stream",
          "text": [
            "Display Frames: \n"
          ]
        },
        {
          "data": {
            "image/png": "[encoded data removed]",
            "text/plain": [
              "<PIL.Image.Image image mode=RGB size=160x120 at 0x7F6510F3E8B0>"
            ]
          },
          "metadata": {},
          "output_type": "display_data"
        },
        {
          "data": {
            "image/png": "[encoded data removed]",
            "text/plain": [
              "<PIL.Image.Image image mode=RGB size=160x120 at 0x7F6512FB7610>"
            ]
          },
          "metadata": {},
          "output_type": "display_data"
        },
        {
          "data": {
            "image/png": "[encoded data removed]",
            "text/plain": [
              "<PIL.Image.Image image mode=RGB size=160x120 at 0x7F6512EFD790>"
            ]
          },
          "metadata": {},
          "output_type": "display_data"
        },
        {
          "data": {
            "image/png": "[encoded data removed]",
            "text/plain": [
              "<PIL.Image.Image image mode=RGB size=160x120 at 0x7F651366F400>"
            ]
          },
          "metadata": {},
          "output_type": "display_data"
        },
        {
          "data": {
            "image/png": "[encoded data removed]",
            "text/plain": [
              "<PIL.Image.Image image mode=RGB size=160x120 at 0x7F6512EFD790>"
            ]
          },
          "metadata": {},
          "output_type": "display_data"
        },
        {
          "data": {
            "image/png": "[encoded data removed]",
            "text/plain": [
              "<PIL.Image.Image image mode=RGB size=160x120 at 0x7F6512DE1070>"
            ]
          },
          "metadata": {},
          "output_type": "display_data"
        },
        {
          "data": {
            "image/png": "[encoded data removed]",
            "text/plain": [
              "<PIL.Image.Image image mode=RGB size=160x120 at 0x7F6512EE9C10>"
            ]
          },
          "metadata": {},
          "output_type": "display_data"
        },
        {
          "data": {
            "image/png": "[encoded data removed]",
            "text/plain": [
              "<PIL.Image.Image image mode=RGB size=160x120 at 0x7F6512DE1070>"
            ]
          },
          "metadata": {},
          "output_type": "display_data"
        },
        {
          "data": {
            "image/png": "[encoded data removed]",
            "text/plain": [
              "<PIL.Image.Image image mode=RGB size=160x120 at 0x7F6512EE9C10>"
            ]
          },
          "metadata": {},
          "output_type": "display_data"
        },
        {
          "data": {
            "image/png": "[encoded data removed]",
            "text/plain": [
              "<PIL.Image.Image image mode=RGB size=160x120 at 0x7F6512DE1070>"
            ]
          },
          "metadata": {},
          "output_type": "display_data"
        },
        {
          "data": {
            "image/png": "[encoded data removed]",
            "text/plain": [
              "<PIL.Image.Image image mode=RGB size=160x120 at 0x7F6512EE9C10>"
            ]
          },
          "metadata": {},
          "output_type": "display_data"
        },
        {
          "data": {
            "image/png": "[encoded data removed]",
            "text/plain": [
              "<PIL.Image.Image image mode=RGB size=160x120 at 0x7F6512DE1070>"
            ]
          },
          "metadata": {},
          "output_type": "display_data"
        },
        {
          "data": {
            "image/png": "[encoded data removed]",
            "text/plain": [
              "<PIL.Image.Image image mode=RGB size=160x120 at 0x7F6512EE9C10>"
            ]
          },
          "metadata": {},
          "output_type": "display_data"
        },
        {
          "data": {
            "image/png": "[encoded data removed]",
            "text/plain": [
              "<PIL.Image.Image image mode=RGB size=160x120 at 0x7F6512DE1070>"
            ]
          },
          "metadata": {},
          "output_type": "display_data"
        },
        {
          "data": {
            "image/png": "[encoded data removed]",
            "text/plain": [
              "<PIL.Image.Image image mode=RGB size=160x120 at 0x7F6512EE9C10>"
            ]
          },
          "metadata": {},
          "output_type": "display_data"
        },
        {
          "data": {
            "image/png": "[encoded data removed]",
            "text/plain": [
              "<PIL.Image.Image image mode=RGB size=160x120 at 0x7F6512DE1070>"
            ]
          },
          "metadata": {},
          "output_type": "display_data"
        },
        {
          "data": {
            "image/png": "[encoded data removed]",
            "text/plain": [
              "<PIL.Image.Image image mode=RGB size=160x120 at 0x7F6512EE9C10>"
            ]
          },
          "metadata": {},
          "output_type": "display_data"
        },
        {
          "data": {
            "image/png": "[encoded data removed]",
            "text/plain": [
              "<PIL.Image.Image image mode=RGB size=160x120 at 0x7F6512DE1070>"
            ]
          },
          "metadata": {},
          "output_type": "display_data"
        },
        {
          "data": {
            "image/png": "[encoded data removed]",
            "text/plain": [
              "<PIL.Image.Image image mode=RGB size=160x120 at 0x7F6512EE9C10>"
            ]
          },
          "metadata": {},
          "output_type": "display_data"
        },
        {
          "data": {
            "image/png": "[encoded data removed]",
            "text/plain": [
              "<PIL.Image.Image image mode=RGB size=160x120 at 0x7F6512DE1070>"
            ]
          },
          "metadata": {},
          "output_type": "display_data"
        },
        {
          "data": {
            "image/png": "[encoded data removed]",
            "text/plain": [
              "<PIL.Image.Image image mode=RGB size=160x120 at 0x7F6512EE9C10>"
            ]
          },
          "metadata": {},
          "output_type": "display_data"
        },
        {
          "data": {
            "image/png": "[encoded data removed]",
            "text/plain": [
              "<PIL.Image.Image image mode=RGB size=160x120 at 0x7F6512DE1070>"
            ]
          },
          "metadata": {},
          "output_type": "display_data"
        },
        {
          "data": {
            "image/png": "[encoded data removed]",
            "text/plain": [
              "<PIL.Image.Image image mode=RGB size=160x120 at 0x7F6512EE9C10>"
            ]
          },
          "metadata": {},
          "output_type": "display_data"
        },
        {
          "data": {
            "image/png": "[encoded data removed]",
            "text/plain": [
              "<PIL.Image.Image image mode=RGB size=160x120 at 0x7F6512DE1070>"
            ]
          },
          "metadata": {},
          "output_type": "display_data"
        },
        {
          "data": {
            "image/png": "[encoded data removed]",
            "text/plain": [
              "<PIL.Image.Image image mode=RGB size=160x120 at 0x7F6512EE9C10>"
            ]
          },
          "metadata": {},
          "output_type": "display_data"
        },
        {
          "data": {
            "image/png": "[encoded data removed]",
            "text/plain": [
              "<PIL.Image.Image image mode=RGB size=160x120 at 0x7F6512DE1070>"
            ]
          },
          "metadata": {},
          "output_type": "display_data"
        },
        {
          "data": {
            "image/png": "[encoded data removed]",
            "text/plain": [
              "<PIL.Image.Image image mode=RGB size=160x120 at 0x7F6512EE9C10>"
            ]
          },
          "metadata": {},
          "output_type": "display_data"
        },
        {
          "data": {
            "image/png": "[encoded data removed]",
            "text/plain": [
              "<PIL.Image.Image image mode=RGB size=160x120 at 0x7F6512DE1070>"
            ]
          },
          "metadata": {},
          "output_type": "display_data"
        },
        {
          "data": {
            "image/png": "[encoded data removed]",
            "text/plain": [
              "<PIL.Image.Image image mode=RGB size=160x120 at 0x7F6512EE9C10>"
            ]
          },
          "metadata": {},
          "output_type": "display_data"
        },
        {
          "data": {
            "image/png": "[encoded data removed]",
            "text/plain": [
              "<PIL.Image.Image image mode=RGB size=160x120 at 0x7F6512DE1070>"
            ]
          },
          "metadata": {},
          "output_type": "display_data"
        },
        {
          "data": {
            "image/png": "[encoded data removed]",
            "text/plain": [
              "<PIL.Image.Image image mode=RGB size=160x120 at 0x7F6512EE9C10>"
            ]
          },
          "metadata": {},
          "output_type": "display_data"
        },
        {
          "data": {
            "image/png": "[encoded data removed]",
            "text/plain": [
              "<PIL.Image.Image image mode=RGB size=160x120 at 0x7F6512DE1070>"
            ]
          },
          "metadata": {},
          "output_type": "display_data"
        },
        {
          "name": "stdout",
          "output_type": "stream",
          "text": [
            "Saving Frames: \n",
            "(120, 160, 3)\n"
          ]
        },
        {
          "data": {
            "image/png": "[encoded data removed]",
            "text/plain": [
              "<PIL.Image.Image image mode=RGB size=160x120 at 0x7F6512DE1070>"
            ]
          },
          "metadata": {},
          "output_type": "display_data"
        },
        {
          "name": "stdout",
          "output_type": "stream",
          "text": [
            "(120, 160, 3)\n"
          ]
        },
        {
          "data": {
            "image/png": "[encoded data removed]",
            "text/plain": [
              "<PIL.Image.Image image mode=RGB size=160x120 at 0x7F6513270190>"
            ]
          },
          "metadata": {},
          "output_type": "display_data"
        },
        {
          "name": "stdout",
          "output_type": "stream",
          "text": [
            "(120, 160, 3)\n"
          ]
        },
        {
          "data": {
            "image/png": "[encoded data removed]",
            "text/plain": [
              "<PIL.Image.Image image mode=RGB size=160x120 at 0x7F6512DE1070>"
            ]
          },
          "metadata": {},
          "output_type": "display_data"
        },
        {
          "name": "stdout",
          "output_type": "stream",
          "text": [
            "(120, 160, 3)\n"
          ]
        },
        {
          "data": {
            "image/png": "[encoded data removed]",
            "text/plain": [
              "<PIL.Image.Image image mode=RGB size=160x120 at 0x7F6513270190>"
            ]
          },
          "metadata": {},
          "output_type": "display_data"
        },
        {
          "name": "stdout",
          "output_type": "stream",
          "text": [
            "(120, 160, 3)\n"
          ]
        },
        {
          "data": {
            "image/png": "[encoded data removed]",
            "text/plain": [
              "<PIL.Image.Image image mode=RGB size=160x120 at 0x7F6512DE1070>"
            ]
          },
          "metadata": {},
          "output_type": "display_data"
        },
        {
          "name": "stdout",
          "output_type": "stream",
          "text": [
            "(120, 160, 3)\n"
          ]
        },
        {
          "data": {
            "image/png": "[encoded data removed]",
            "text/plain": [
              "<PIL.Image.Image image mode=RGB size=160x120 at 0x7F6513270190>"
            ]
          },
          "metadata": {},
          "output_type": "display_data"
        },
        {
          "name": "stdout",
          "output_type": "stream",
          "text": [
            "(120, 160, 3)\n"
          ]
        },
        {
          "data": {
            "image/png": "[encoded data removed]",
            "text/plain": [
              "<PIL.Image.Image image mode=RGB size=160x120 at 0x7F6512DE1070>"
            ]
          },
          "metadata": {},
          "output_type": "display_data"
        },
        {
          "name": "stdout",
          "output_type": "stream",
          "text": [
            "(120, 160, 3)\n"
          ]
        },
        {
          "data": {
            "image/png": "[encoded data removed]",
            "text/plain": [
              "<PIL.Image.Image image mode=RGB size=160x120 at 0x7F6513270190>"
            ]
          },
          "metadata": {},
          "output_type": "display_data"
        },
        {
          "name": "stdout",
          "output_type": "stream",
          "text": [
            "(120, 160, 3)\n"
          ]
        },
        {
          "data": {
            "image/png": "[encoded data removed]",
            "text/plain": [
              "<PIL.Image.Image image mode=RGB size=160x120 at 0x7F6512DE1070>"
            ]
          },
          "metadata": {},
          "output_type": "display_data"
        },
        {
          "name": "stdout",
          "output_type": "stream",
          "text": [
            "(120, 160, 3)\n"
          ]
        },
        {
          "data": {
            "image/png": "[encoded data removed]",
            "text/plain": [
              "<PIL.Image.Image image mode=RGB size=160x120 at 0x7F6513270190>"
            ]
          },
          "metadata": {},
          "output_type": "display_data"
        },
        {
          "name": "stdout",
          "output_type": "stream",
          "text": [
            "(120, 160, 3)\n"
          ]
        },
        {
          "data": {
            "image/png": "[encoded data removed]",
            "text/plain": [
              "<PIL.Image.Image image mode=RGB size=160x120 at 0x7F6512DE1070>"
            ]
          },
          "metadata": {},
          "output_type": "display_data"
        },
        {
          "name": "stdout",
          "output_type": "stream",
          "text": [
            "(120, 160, 3)\n"
          ]
        },
        {
          "data": {
            "image/png": "[encoded data removed]",
            "text/plain": [
              "<PIL.Image.Image image mode=RGB size=160x120 at 0x7F6513270190>"
            ]
          },
          "metadata": {},
          "output_type": "display_data"
        },
        {
          "name": "stdout",
          "output_type": "stream",
          "text": [
            "(120, 160, 3)\n"
          ]
        },
        {
          "data": {
            "image/png": "[encoded data removed]",
            "text/plain": [
              "<PIL.Image.Image image mode=RGB size=160x120 at 0x7F6512DE1070>"
            ]
          },
          "metadata": {},
          "output_type": "display_data"
        },
        {
          "name": "stdout",
          "output_type": "stream",
          "text": [
            "(120, 160, 3)\n"
          ]
        },
        {
          "data": {
            "image/png": "[encoded data removed]",
            "text/plain": [
              "<PIL.Image.Image image mode=RGB size=160x120 at 0x7F6513270190>"
            ]
          },
          "metadata": {},
          "output_type": "display_data"
        },
        {
          "name": "stdout",
          "output_type": "stream",
          "text": [
            "(120, 160, 3)\n"
          ]
        },
        {
          "data": {
            "image/png": "[encoded data removed]",
            "text/plain": [
              "<PIL.Image.Image image mode=RGB size=160x120 at 0x7F6512DE1070>"
            ]
          },
          "metadata": {},
          "output_type": "display_data"
        },
        {
          "name": "stdout",
          "output_type": "stream",
          "text": [
            "(120, 160, 3)\n"
          ]
        },
        {
          "data": {
            "image/png": "[encoded data removed]",
            "text/plain": [
              "<PIL.Image.Image image mode=RGB size=160x120 at 0x7F6513270190>"
            ]
          },
          "metadata": {},
          "output_type": "display_data"
        },
        {
          "name": "stdout",
          "output_type": "stream",
          "text": [
            "(120, 160, 3)\n"
          ]
        },
        {
          "data": {
            "image/png": "[encoded data removed]",
            "text/plain": [
              "<PIL.Image.Image image mode=RGB size=160x120 at 0x7F6512DE1070>"
            ]
          },
          "metadata": {},
          "output_type": "display_data"
        },
        {
          "name": "stdout",
          "output_type": "stream",
          "text": [
            "(120, 160, 3)\n"
          ]
        },
        {
          "data": {
            "image/png": "[encoded data removed]",
            "text/plain": [
              "<PIL.Image.Image image mode=RGB size=160x120 at 0x7F6513270190>"
            ]
          },
          "metadata": {},
          "output_type": "display_data"
        },
        {
          "name": "stdout",
          "output_type": "stream",
          "text": [
            "(120, 160, 3)\n"
          ]
        },
        {
          "data": {
            "image/png": "[encoded data removed]",
            "text/plain": [
              "<PIL.Image.Image image mode=RGB size=160x120 at 0x7F6512DE1070>"
            ]
          },
          "metadata": {},
          "output_type": "display_data"
        },
        {
          "name": "stdout",
          "output_type": "stream",
          "text": [
            "(120, 160, 3)\n"
          ]
        },
        {
          "data": {
            "image/png": "[encoded data removed]",
            "text/plain": [
              "<PIL.Image.Image image mode=RGB size=160x120 at 0x7F6513270190>"
            ]
          },
          "metadata": {},
          "output_type": "display_data"
        },
        {
          "name": "stdout",
          "output_type": "stream",
          "text": [
            "(120, 160, 3)\n"
          ]
        },
        {
          "data": {
            "image/png": "[encoded data removed]",
            "text/plain": [
              "<PIL.Image.Image image mode=RGB size=160x120 at 0x7F6512DE1070>"
            ]
          },
          "metadata": {},
          "output_type": "display_data"
        },
        {
          "name": "stdout",
          "output_type": "stream",
          "text": [
            "(120, 160, 3)\n"
          ]
        },
        {
          "data": {
            "image/png": "[encoded data removed]",
            "text/plain": [
              "<PIL.Image.Image image mode=RGB size=160x120 at 0x7F6513270190>"
            ]
          },
          "metadata": {},
          "output_type": "display_data"
        },
        {
          "name": "stdout",
          "output_type": "stream",
          "text": [
            "(120, 160, 3)\n"
          ]
        },
        {
          "data": {
            "image/png": "[encoded data removed]",
            "text/plain": [
              "<PIL.Image.Image image mode=RGB size=160x120 at 0x7F6512DE1070>"
            ]
          },
          "metadata": {},
          "output_type": "display_data"
        },
        {
          "name": "stdout",
          "output_type": "stream",
          "text": [
            "(120, 160, 3)\n"
          ]
        },
        {
          "data": {
            "image/png": "[encoded data removed]",
            "text/plain": [
              "<PIL.Image.Image image mode=RGB size=160x120 at 0x7F6513270190>"
            ]
          },
          "metadata": {},
          "output_type": "display_data"
        },
        {
          "name": "stdout",
          "output_type": "stream",
          "text": [
            "(120, 160, 3)\n"
          ]
        },
        {
          "data": {
            "image/png": "[encoded data removed]",
            "text/plain": [
              "<PIL.Image.Image image mode=RGB size=160x120 at 0x7F6512DE1070>"
            ]
          },
          "metadata": {},
          "output_type": "display_data"
        },
        {
          "name": "stdout",
          "output_type": "stream",
          "text": [
            "(120, 160, 3)\n"
          ]
        },
        {
          "data": {
            "image/png": "[encoded data removed]",
            "text/plain": [
              "<PIL.Image.Image image mode=RGB size=160x120 at 0x7F6513270190>"
            ]
          },
          "metadata": {},
          "output_type": "display_data"
        },
        {
          "name": "stdout",
          "output_type": "stream",
          "text": [
            "(120, 160, 3)\n"
          ]
        },
        {
          "data": {
            "image/png": "[encoded data removed]",
            "text/plain": [
              "<PIL.Image.Image image mode=RGB size=160x120 at 0x7F6512DE1070>"
            ]
          },
          "metadata": {},
          "output_type": "display_data"
        },
        {
          "name": "stdout",
          "output_type": "stream",
          "text": [
            "(120, 160, 3)\n"
          ]
        },
        {
          "data": {
            "image/png": "[encoded data removed]",
            "text/plain": [
              "<PIL.Image.Image image mode=RGB size=160x120 at 0x7F6513270190>"
            ]
          },
          "metadata": {},
          "output_type": "display_data"
        },
        {
          "name": "stdout",
          "output_type": "stream",
          "text": [
            "(120, 160, 3)\n"
          ]
        },
        {
          "data": {
            "image/png": "[encoded data removed]",
            "text/plain": [
              "<PIL.Image.Image image mode=RGB size=160x120 at 0x7F6512DE1070>"
            ]
          },
          "metadata": {},
          "output_type": "display_data"
        },
        {
          "name": "stdout",
          "output_type": "stream",
          "text": [
            "(120, 160, 3)\n"
          ]
        },
        {
          "data": {
            "image/png": "[encoded data removed]",
            "text/plain": [
              "<PIL.Image.Image image mode=RGB size=160x120 at 0x7F6513270190>"
            ]
          },
          "metadata": {},
          "output_type": "display_data"
        },
        {
          "name": "stdout",
          "output_type": "stream",
          "text": [
            "(120, 160, 3)\n"
          ]
        },
        {
          "data": {
            "image/png": "[encoded data removed]",
            "text/plain": [
              "<PIL.Image.Image image mode=RGB size=160x120 at 0x7F6512F0CA60>"
            ]
          },
          "metadata": {},
          "output_type": "display_data"
        },
        {
          "name": "stdout",
          "output_type": "stream",
          "text": [
            "(120, 160, 3)\n"
          ]
        },
        {
          "data": {
            "image/png": "[encoded data removed]",
            "text/plain": [
              "<PIL.Image.Image image mode=RGB size=160x120 at 0x7F6513270190>"
            ]
          },
          "metadata": {},
          "output_type": "display_data"
        }
      ],
      "source": [
        "visualize1(y_pred1, 'avg_BS')"
      ]
    },
    {
      "cell_type": "markdown",
      "id": "c58c5b0f-9e30-44f6-88dc-8efb91e588a6",
      "metadata": {
        "id": "c58c5b0f-9e30-44f6-88dc-8efb91e588a6",
        "jp-MarkdownHeadingCollapsed": true,
        "tags": []
      },
      "source": [
        "### 2. GMMs per pixel"
      ]
    },
    {
      "cell_type": "code",
      "execution_count": 87,
      "id": "Ub3VojW6gicR",
      "metadata": {
        "id": "Ub3VojW6gicR"
      },
      "outputs": [],
      "source": [
        "y_pred2 = test_frames - background_g"
      ]
    },
    {
      "cell_type": "code",
      "execution_count": 88,
      "id": "d9gSWBN4gnWw",
      "metadata": {
        "colab": {
          "base_uri": "https://localhost:8080/",
          "height": 1000
        },
        "id": "d9gSWBN4gnWw",
        "outputId": "c6c325ea-8521-4c7f-b013-c86f8713b4ee"
      },
      "outputs": [
        {
          "name": "stdout",
          "output_type": "stream",
          "text": [
            "Display Frames: \n"
          ]
        },
        {
          "data": {
            "image/png": "[encoded data removed]",
            "text/plain": [
              "<PIL.Image.Image image mode=RGB size=160x120 at 0x7F65132469A0>"
            ]
          },
          "metadata": {},
          "output_type": "display_data"
        },
        {
          "data": {
            "image/png": "[encoded data removed]",
            "text/plain": [
              "<PIL.Image.Image image mode=RGB size=160x120 at 0x7F6512DFA850>"
            ]
          },
          "metadata": {},
          "output_type": "display_data"
        },
        {
          "data": {
            "image/png": "[encoded data removed]",
            "text/plain": [
              "<PIL.Image.Image image mode=RGB size=160x120 at 0x7F651345B9D0>"
            ]
          },
          "metadata": {},
          "output_type": "display_data"
        },
        {
          "data": {
            "image/png": "[encoded data removed]",
            "text/plain": [
              "<PIL.Image.Image image mode=RGB size=160x120 at 0x7F6512DFA850>"
            ]
          },
          "metadata": {},
          "output_type": "display_data"
        },
        {
          "data": {
            "image/png": "[encoded data removed]",
            "text/plain": [
              "<PIL.Image.Image image mode=RGB size=160x120 at 0x7F651345B9D0>"
            ]
          },
          "metadata": {},
          "output_type": "display_data"
        },
        {
          "data": {
            "image/png": "[encoded data removed]",
            "text/plain": [
              "<PIL.Image.Image image mode=RGB size=160x120 at 0x7F6512DFA850>"
            ]
          },
          "metadata": {},
          "output_type": "display_data"
        },
        {
          "data": {
            "image/png": "[encoded data removed]",
            "text/plain": [
              "<PIL.Image.Image image mode=RGB size=160x120 at 0x7F651345B9D0>"
            ]
          },
          "metadata": {},
          "output_type": "display_data"
        },
        {
          "data": {
            "image/png": "[encoded data removed]",
            "text/plain": [
              "<PIL.Image.Image image mode=RGB size=160x120 at 0x7F6512DFA850>"
            ]
          },
          "metadata": {},
          "output_type": "display_data"
        },
        {
          "data": {
            "image/png": "[encoded data removed]",
            "text/plain": [
              "<PIL.Image.Image image mode=RGB size=160x120 at 0x7F651345B9D0>"
            ]
          },
          "metadata": {},
          "output_type": "display_data"
        },
        {
          "data": {
            "image/png": "[encoded data removed]",
            "text/plain": [
              "<PIL.Image.Image image mode=RGB size=160x120 at 0x7F6512DFA850>"
            ]
          },
          "metadata": {},
          "output_type": "display_data"
        },
        {
          "data": {
            "image/png": "[encoded data removed]",
            "text/plain": [
              "<PIL.Image.Image image mode=RGB size=160x120 at 0x7F651345B9D0>"
            ]
          },
          "metadata": {},
          "output_type": "display_data"
        },
        {
          "data": {
            "image/png": "[encoded data removed]",
            "text/plain": [
              "<PIL.Image.Image image mode=RGB size=160x120 at 0x7F6512DFA850>"
            ]
          },
          "metadata": {},
          "output_type": "display_data"
        },
        {
          "data": {
            "image/png": "[encoded data removed]",
            "text/plain": [
              "<PIL.Image.Image image mode=RGB size=160x120 at 0x7F651345B9D0>"
            ]
          },
          "metadata": {},
          "output_type": "display_data"
        },
        {
          "data": {
            "image/png": "[encoded data removed]",
            "text/plain": [
              "<PIL.Image.Image image mode=RGB size=160x120 at 0x7F6512DFA850>"
            ]
          },
          "metadata": {},
          "output_type": "display_data"
        },
        {
          "data": {
            "image/png": "[encoded data removed]",
            "text/plain": [
              "<PIL.Image.Image image mode=RGB size=160x120 at 0x7F651345B9D0>"
            ]
          },
          "metadata": {},
          "output_type": "display_data"
        },
        {
          "data": {
            "image/png": "[encoded data removed]",
            "text/plain": [
              "<PIL.Image.Image image mode=RGB size=160x120 at 0x7F6512DFA850>"
            ]
          },
          "metadata": {},
          "output_type": "display_data"
        },
        {
          "data": {
            "image/png": "[encoded data removed]",
            "text/plain": [
              "<PIL.Image.Image image mode=RGB size=160x120 at 0x7F651345B9D0>"
            ]
          },
          "metadata": {},
          "output_type": "display_data"
        },
        {
          "data": {
            "image/png": "[encoded data removed]",
            "text/plain": [
              "<PIL.Image.Image image mode=RGB size=160x120 at 0x7F6512DFA850>"
            ]
          },
          "metadata": {},
          "output_type": "display_data"
        },
        {
          "data": {
            "image/png": "[encoded data removed]",
            "text/plain": [
              "<PIL.Image.Image image mode=RGB size=160x120 at 0x7F651345B9D0>"
            ]
          },
          "metadata": {},
          "output_type": "display_data"
        },
        {
          "data": {
            "image/png": "[encoded data removed]",
            "text/plain": [
              "<PIL.Image.Image image mode=RGB size=160x120 at 0x7F6512DFA850>"
            ]
          },
          "metadata": {},
          "output_type": "display_data"
        },
        {
          "data": {
            "image/png": "[encoded data removed]",
            "text/plain": [
              "<PIL.Image.Image image mode=RGB size=160x120 at 0x7F651345B9D0>"
            ]
          },
          "metadata": {},
          "output_type": "display_data"
        },
        {
          "data": {
            "image/png": "[encoded data removed]",
            "text/plain": [
              "<PIL.Image.Image image mode=RGB size=160x120 at 0x7F6512DFA850>"
            ]
          },
          "metadata": {},
          "output_type": "display_data"
        },
        {
          "data": {
            "image/png": "[encoded data removed]",
            "text/plain": [
              "<PIL.Image.Image image mode=RGB size=160x120 at 0x7F651345B9D0>"
            ]
          },
          "metadata": {},
          "output_type": "display_data"
        },
        {
          "data": {
            "image/png": "[encoded data removed]",
            "text/plain": [
              "<PIL.Image.Image image mode=RGB size=160x120 at 0x7F6512DFA850>"
            ]
          },
          "metadata": {},
          "output_type": "display_data"
        },
        {
          "data": {
            "image/png": "[encoded data removed]",
            "text/plain": [
              "<PIL.Image.Image image mode=RGB size=160x120 at 0x7F651345B9D0>"
            ]
          },
          "metadata": {},
          "output_type": "display_data"
        },
        {
          "data": {
            "image/png": "[encoded data removed]",
            "text/plain": [
              "<PIL.Image.Image image mode=RGB size=160x120 at 0x7F6512DFA850>"
            ]
          },
          "metadata": {},
          "output_type": "display_data"
        },
        {
          "data": {
            "image/png": "[encoded data removed]",
            "text/plain": [
              "<PIL.Image.Image image mode=RGB size=160x120 at 0x7F651345B9D0>"
            ]
          },
          "metadata": {},
          "output_type": "display_data"
        },
        {
          "data": {
            "image/png": "[encoded data removed]",
            "text/plain": [
              "<PIL.Image.Image image mode=RGB size=160x120 at 0x7F6512DFA850>"
            ]
          },
          "metadata": {},
          "output_type": "display_data"
        },
        {
          "data": {
            "image/png": "[encoded data removed]",
            "text/plain": [
              "<PIL.Image.Image image mode=RGB size=160x120 at 0x7F651345B9D0>"
            ]
          },
          "metadata": {},
          "output_type": "display_data"
        },
        {
          "data": {
            "image/png": "[encoded data removed]",
            "text/plain": [
              "<PIL.Image.Image image mode=RGB size=160x120 at 0x7F6512DFA850>"
            ]
          },
          "metadata": {},
          "output_type": "display_data"
        },
        {
          "data": {
            "image/png": "[encoded data removed]",
            "text/plain": [
              "<PIL.Image.Image image mode=RGB size=160x120 at 0x7F651345B9D0>"
            ]
          },
          "metadata": {},
          "output_type": "display_data"
        },
        {
          "data": {
            "image/png": "[encoded data removed]",
            "text/plain": [
              "<PIL.Image.Image image mode=RGB size=160x120 at 0x7F6512DFA850>"
            ]
          },
          "metadata": {},
          "output_type": "display_data"
        },
        {
          "name": "stdout",
          "output_type": "stream",
          "text": [
            "Saving Frames: \n",
            "(120, 160, 3)\n"
          ]
        },
        {
          "data": {
            "image/png": "[encoded data removed]",
            "text/plain": [
              "<PIL.Image.Image image mode=RGB size=160x120 at 0x7F651327D970>"
            ]
          },
          "metadata": {},
          "output_type": "display_data"
        },
        {
          "name": "stdout",
          "output_type": "stream",
          "text": [
            "(120, 160, 3)\n"
          ]
        },
        {
          "data": {
            "image/png": "[encoded data removed]",
            "text/plain": [
              "<PIL.Image.Image image mode=RGB size=160x120 at 0x7F6512DFA850>"
            ]
          },
          "metadata": {},
          "output_type": "display_data"
        },
        {
          "name": "stdout",
          "output_type": "stream",
          "text": [
            "(120, 160, 3)\n"
          ]
        },
        {
          "data": {
            "image/png": "[encoded data removed]",
            "text/plain": [
              "<PIL.Image.Image image mode=RGB size=160x120 at 0x7F651327D970>"
            ]
          },
          "metadata": {},
          "output_type": "display_data"
        },
        {
          "name": "stdout",
          "output_type": "stream",
          "text": [
            "(120, 160, 3)\n"
          ]
        },
        {
          "data": {
            "image/png": "[encoded data removed]",
            "text/plain": [
              "<PIL.Image.Image image mode=RGB size=160x120 at 0x7F6512DFA850>"
            ]
          },
          "metadata": {},
          "output_type": "display_data"
        },
        {
          "name": "stdout",
          "output_type": "stream",
          "text": [
            "(120, 160, 3)\n"
          ]
        },
        {
          "data": {
            "image/png": "[encoded data removed]",
            "text/plain": [
              "<PIL.Image.Image image mode=RGB size=160x120 at 0x7F651327D970>"
            ]
          },
          "metadata": {},
          "output_type": "display_data"
        },
        {
          "name": "stdout",
          "output_type": "stream",
          "text": [
            "(120, 160, 3)\n"
          ]
        },
        {
          "data": {
            "image/png": "[encoded data removed]",
            "text/plain": [
              "<PIL.Image.Image image mode=RGB size=160x120 at 0x7F6512DFA850>"
            ]
          },
          "metadata": {},
          "output_type": "display_data"
        },
        {
          "name": "stdout",
          "output_type": "stream",
          "text": [
            "(120, 160, 3)\n"
          ]
        },
        {
          "data": {
            "image/png": "[encoded data removed]",
            "text/plain": [
              "<PIL.Image.Image image mode=RGB size=160x120 at 0x7F651327D970>"
            ]
          },
          "metadata": {},
          "output_type": "display_data"
        },
        {
          "name": "stdout",
          "output_type": "stream",
          "text": [
            "(120, 160, 3)\n"
          ]
        },
        {
          "data": {
            "image/png": "[encoded data removed]",
            "text/plain": [
              "<PIL.Image.Image image mode=RGB size=160x120 at 0x7F6512DFA850>"
            ]
          },
          "metadata": {},
          "output_type": "display_data"
        },
        {
          "name": "stdout",
          "output_type": "stream",
          "text": [
            "(120, 160, 3)\n"
          ]
        },
        {
          "data": {
            "image/png": "[encoded data removed]",
            "text/plain": [
              "<PIL.Image.Image image mode=RGB size=160x120 at 0x7F651327D970>"
            ]
          },
          "metadata": {},
          "output_type": "display_data"
        },
        {
          "name": "stdout",
          "output_type": "stream",
          "text": [
            "(120, 160, 3)\n"
          ]
        },
        {
          "data": {
            "image/png": "[encoded data removed]",
            "text/plain": [
              "<PIL.Image.Image image mode=RGB size=160x120 at 0x7F6512DFA850>"
            ]
          },
          "metadata": {},
          "output_type": "display_data"
        },
        {
          "name": "stdout",
          "output_type": "stream",
          "text": [
            "(120, 160, 3)\n"
          ]
        },
        {
          "data": {
            "image/png": "[encoded data removed]",
            "text/plain": [
              "<PIL.Image.Image image mode=RGB size=160x120 at 0x7F651327D970>"
            ]
          },
          "metadata": {},
          "output_type": "display_data"
        },
        {
          "name": "stdout",
          "output_type": "stream",
          "text": [
            "(120, 160, 3)\n"
          ]
        },
        {
          "data": {
            "image/png": "[encoded data removed]",
            "text/plain": [
              "<PIL.Image.Image image mode=RGB size=160x120 at 0x7F6512DFA850>"
            ]
          },
          "metadata": {},
          "output_type": "display_data"
        },
        {
          "name": "stdout",
          "output_type": "stream",
          "text": [
            "(120, 160, 3)\n"
          ]
        },
        {
          "data": {
            "image/png": "[encoded data removed]",
            "text/plain": [
              "<PIL.Image.Image image mode=RGB size=160x120 at 0x7F651327D970>"
            ]
          },
          "metadata": {},
          "output_type": "display_data"
        },
        {
          "name": "stdout",
          "output_type": "stream",
          "text": [
            "(120, 160, 3)\n"
          ]
        },
        {
          "data": {
            "image/png": "[encoded data removed]",
            "text/plain": [
              "<PIL.Image.Image image mode=RGB size=160x120 at 0x7F6512DFA850>"
            ]
          },
          "metadata": {},
          "output_type": "display_data"
        },
        {
          "name": "stdout",
          "output_type": "stream",
          "text": [
            "(120, 160, 3)\n"
          ]
        },
        {
          "data": {
            "image/png": "[encoded data removed]",
            "text/plain": [
              "<PIL.Image.Image image mode=RGB size=160x120 at 0x7F651327D970>"
            ]
          },
          "metadata": {},
          "output_type": "display_data"
        },
        {
          "name": "stdout",
          "output_type": "stream",
          "text": [
            "(120, 160, 3)\n"
          ]
        },
        {
          "data": {
            "image/png": "[encoded data removed]",
            "text/plain": [
              "<PIL.Image.Image image mode=RGB size=160x120 at 0x7F6512DFA850>"
            ]
          },
          "metadata": {},
          "output_type": "display_data"
        },
        {
          "name": "stdout",
          "output_type": "stream",
          "text": [
            "(120, 160, 3)\n"
          ]
        },
        {
          "data": {
            "image/png": "[encoded data removed]",
            "text/plain": [
              "<PIL.Image.Image image mode=RGB size=160x120 at 0x7F651327D970>"
            ]
          },
          "metadata": {},
          "output_type": "display_data"
        },
        {
          "name": "stdout",
          "output_type": "stream",
          "text": [
            "(120, 160, 3)\n"
          ]
        },
        {
          "data": {
            "image/png": "[encoded data removed]",
            "text/plain": [
              "<PIL.Image.Image image mode=RGB size=160x120 at 0x7F6512DFA850>"
            ]
          },
          "metadata": {},
          "output_type": "display_data"
        },
        {
          "name": "stdout",
          "output_type": "stream",
          "text": [
            "(120, 160, 3)\n"
          ]
        },
        {
          "data": {
            "image/png": "[encoded data removed]",
            "text/plain": [
              "<PIL.Image.Image image mode=RGB size=160x120 at 0x7F651327D970>"
            ]
          },
          "metadata": {},
          "output_type": "display_data"
        },
        {
          "name": "stdout",
          "output_type": "stream",
          "text": [
            "(120, 160, 3)\n"
          ]
        },
        {
          "data": {
            "image/png": "[encoded data removed]",
            "text/plain": [
              "<PIL.Image.Image image mode=RGB size=160x120 at 0x7F6512DFA850>"
            ]
          },
          "metadata": {},
          "output_type": "display_data"
        },
        {
          "name": "stdout",
          "output_type": "stream",
          "text": [
            "(120, 160, 3)\n"
          ]
        },
        {
          "data": {
            "image/png": "[encoded data removed]",
            "text/plain": [
              "<PIL.Image.Image image mode=RGB size=160x120 at 0x7F651327D970>"
            ]
          },
          "metadata": {},
          "output_type": "display_data"
        },
        {
          "name": "stdout",
          "output_type": "stream",
          "text": [
            "(120, 160, 3)\n"
          ]
        },
        {
          "data": {
            "image/png": "[encoded data removed]",
            "text/plain": [
              "<PIL.Image.Image image mode=RGB size=160x120 at 0x7F6512DFA850>"
            ]
          },
          "metadata": {},
          "output_type": "display_data"
        },
        {
          "name": "stdout",
          "output_type": "stream",
          "text": [
            "(120, 160, 3)\n"
          ]
        },
        {
          "data": {
            "image/png": "[encoded data removed]",
            "text/plain": [
              "<PIL.Image.Image image mode=RGB size=160x120 at 0x7F651327D970>"
            ]
          },
          "metadata": {},
          "output_type": "display_data"
        },
        {
          "name": "stdout",
          "output_type": "stream",
          "text": [
            "(120, 160, 3)\n"
          ]
        },
        {
          "data": {
            "image/png": "[encoded data removed]",
            "text/plain": [
              "<PIL.Image.Image image mode=RGB size=160x120 at 0x7F6512DFA850>"
            ]
          },
          "metadata": {},
          "output_type": "display_data"
        },
        {
          "name": "stdout",
          "output_type": "stream",
          "text": [
            "(120, 160, 3)\n"
          ]
        },
        {
          "data": {
            "image/png": "[encoded data removed]",
            "text/plain": [
              "<PIL.Image.Image image mode=RGB size=160x120 at 0x7F651327D970>"
            ]
          },
          "metadata": {},
          "output_type": "display_data"
        },
        {
          "name": "stdout",
          "output_type": "stream",
          "text": [
            "(120, 160, 3)\n"
          ]
        },
        {
          "data": {
            "image/png": "[encoded data removed]",
            "text/plain": [
              "<PIL.Image.Image image mode=RGB size=160x120 at 0x7F6512DFA850>"
            ]
          },
          "metadata": {},
          "output_type": "display_data"
        },
        {
          "name": "stdout",
          "output_type": "stream",
          "text": [
            "(120, 160, 3)\n"
          ]
        },
        {
          "data": {
            "image/png": "[encoded data removed]",
            "text/plain": [
              "<PIL.Image.Image image mode=RGB size=160x120 at 0x7F651327D970>"
            ]
          },
          "metadata": {},
          "output_type": "display_data"
        },
        {
          "name": "stdout",
          "output_type": "stream",
          "text": [
            "(120, 160, 3)\n"
          ]
        },
        {
          "data": {
            "image/png": "[encoded data removed]",
            "text/plain": [
              "<PIL.Image.Image image mode=RGB size=160x120 at 0x7F6512DFA850>"
            ]
          },
          "metadata": {},
          "output_type": "display_data"
        },
        {
          "name": "stdout",
          "output_type": "stream",
          "text": [
            "(120, 160, 3)\n"
          ]
        },
        {
          "data": {
            "image/png": "[encoded data removed]",
            "text/plain": [
              "<PIL.Image.Image image mode=RGB size=160x120 at 0x7F651327D970>"
            ]
          },
          "metadata": {},
          "output_type": "display_data"
        },
        {
          "name": "stdout",
          "output_type": "stream",
          "text": [
            "(120, 160, 3)\n"
          ]
        },
        {
          "data": {
            "image/png": "[encoded data removed]",
            "text/plain": [
              "<PIL.Image.Image image mode=RGB size=160x120 at 0x7F6512DFA850>"
            ]
          },
          "metadata": {},
          "output_type": "display_data"
        },
        {
          "name": "stdout",
          "output_type": "stream",
          "text": [
            "(120, 160, 3)\n"
          ]
        },
        {
          "data": {
            "image/png": "[encoded data removed]",
            "text/plain": [
              "<PIL.Image.Image image mode=RGB size=160x120 at 0x7F651327D970>"
            ]
          },
          "metadata": {},
          "output_type": "display_data"
        },
        {
          "name": "stdout",
          "output_type": "stream",
          "text": [
            "(120, 160, 3)\n"
          ]
        },
        {
          "data": {
            "image/png": "[encoded data removed]",
            "text/plain": [
              "<PIL.Image.Image image mode=RGB size=160x120 at 0x7F6512DFA850>"
            ]
          },
          "metadata": {},
          "output_type": "display_data"
        }
      ],
      "source": [
        "visualize2(y_pred2, 'gmm_BS')"
      ]
    },
    {
      "cell_type": "markdown",
      "id": "009c1b9d-87d3-4d87-aeac-45cedcc2a833",
      "metadata": {
        "id": "009c1b9d-87d3-4d87-aeac-45cedcc2a833",
        "jp-MarkdownHeadingCollapsed": true,
        "tags": []
      },
      "source": [
        "### 3. KMeans per pixel\n",
        "\n",
        "- You can use `sklearn.cluster.KMeans` for this classification"
      ]
    },
    {
      "cell_type": "code",
      "execution_count": 89,
      "id": "37b47073-490b-4f2a-85f7-f97fabb9bebc",
      "metadata": {
        "execution": {
          "iopub.execute_input": "2023-03-08T07:55:43.637039Z",
          "iopub.status.busy": "2023-03-08T07:55:43.635874Z",
          "iopub.status.idle": "2023-03-08T07:55:43.646623Z",
          "shell.execute_reply": "2023-03-08T07:55:43.644632Z",
          "shell.execute_reply.started": "2023-03-08T07:55:43.636977Z"
        },
        "id": "37b47073-490b-4f2a-85f7-f97fabb9bebc",
        "tags": []
      },
      "outputs": [],
      "source": [
        "y_pred3 = test_frames - background_k"
      ]
    },
    {
      "cell_type": "code",
      "execution_count": 90,
      "id": "9BvIyBLJdmGt",
      "metadata": {
        "colab": {
          "base_uri": "https://localhost:8080/",
          "height": 1000
        },
        "id": "9BvIyBLJdmGt",
        "outputId": "4b70d44a-b74c-4a4d-e808-4574d1f0846b"
      },
      "outputs": [
        {
          "name": "stdout",
          "output_type": "stream",
          "text": [
            "Display Frames: \n"
          ]
        },
        {
          "data": {
            "image/png": "[encoded data removed]",
            "text/plain": [
              "<PIL.Image.Image image mode=RGB size=160x120 at 0x7F6512F8ED60>"
            ]
          },
          "metadata": {},
          "output_type": "display_data"
        },
        {
          "data": {
            "image/png": "[encoded data removed]",
            "text/plain": [
              "<PIL.Image.Image image mode=RGB size=160x120 at 0x7F6512EAA1C0>"
            ]
          },
          "metadata": {},
          "output_type": "display_data"
        },
        {
          "data": {
            "image/png": "[encoded data removed]",
            "text/plain": [
              "<PIL.Image.Image image mode=RGB size=160x120 at 0x7F6510F3E8B0>"
            ]
          },
          "metadata": {},
          "output_type": "display_data"
        },
        {
          "data": {
            "image/png": "[encoded data removed]",
            "text/plain": [
              "<PIL.Image.Image image mode=RGB size=160x120 at 0x7F651371A190>"
            ]
          },
          "metadata": {},
          "output_type": "display_data"
        },
        {
          "data": {
            "image/png": "[encoded data removed]",
            "text/plain": [
              "<PIL.Image.Image image mode=RGB size=160x120 at 0x7F6512EE95E0>"
            ]
          },
          "metadata": {},
          "output_type": "display_data"
        },
        {
          "data": {
            "image/png": "[encoded data removed]",
            "text/plain": [
              "<PIL.Image.Image image mode=RGB size=160x120 at 0x7F6512EAA1C0>"
            ]
          },
          "metadata": {},
          "output_type": "display_data"
        },
        {
          "data": {
            "image/png": "[encoded data removed]",
            "text/plain": [
              "<PIL.Image.Image image mode=RGB size=160x120 at 0x7F6510F3E8B0>"
            ]
          },
          "metadata": {},
          "output_type": "display_data"
        },
        {
          "data": {
            "image/png": "[encoded data removed]",
            "text/plain": [
              "<PIL.Image.Image image mode=RGB size=160x120 at 0x7F651371A190>"
            ]
          },
          "metadata": {},
          "output_type": "display_data"
        },
        {
          "data": {
            "image/png": "[encoded data removed]",
            "text/plain": [
              "<PIL.Image.Image image mode=RGB size=160x120 at 0x7F6512EE95E0>"
            ]
          },
          "metadata": {},
          "output_type": "display_data"
        },
        {
          "data": {
            "image/png": "[encoded data removed]",
            "text/plain": [
              "<PIL.Image.Image image mode=RGB size=160x120 at 0x7F6512F8E910>"
            ]
          },
          "metadata": {},
          "output_type": "display_data"
        },
        {
          "data": {
            "image/png": "[encoded data removed]",
            "text/plain": [
              "<PIL.Image.Image image mode=RGB size=160x120 at 0x7F6512EE95E0>"
            ]
          },
          "metadata": {},
          "output_type": "display_data"
        },
        {
          "data": {
            "image/png": "[encoded data removed]",
            "text/plain": [
              "<PIL.Image.Image image mode=RGB size=160x120 at 0x7F6510F3E8B0>"
            ]
          },
          "metadata": {},
          "output_type": "display_data"
        },
        {
          "data": {
            "image/png": "[encoded data removed]",
            "text/plain": [
              "<PIL.Image.Image image mode=RGB size=160x120 at 0x7F6512EE95E0>"
            ]
          },
          "metadata": {},
          "output_type": "display_data"
        },
        {
          "data": {
            "image/png": "[encoded data removed]",
            "text/plain": [
              "<PIL.Image.Image image mode=RGB size=160x120 at 0x7F651371A190>"
            ]
          },
          "metadata": {},
          "output_type": "display_data"
        },
        {
          "data": {
            "image/png": "[encoded data removed]",
            "text/plain": [
              "<PIL.Image.Image image mode=RGB size=160x120 at 0x7F6512EAA1C0>"
            ]
          },
          "metadata": {},
          "output_type": "display_data"
        },
        {
          "data": {
            "image/png": "[encoded data removed]",
            "text/plain": [
              "<PIL.Image.Image image mode=RGB size=160x120 at 0x7F6510F3E8B0>"
            ]
          },
          "metadata": {},
          "output_type": "display_data"
        },
        {
          "data": {
            "image/png": "[encoded data removed]",
            "text/plain": [
              "<PIL.Image.Image image mode=RGB size=160x120 at 0x7F6512EE95E0>"
            ]
          },
          "metadata": {},
          "output_type": "display_data"
        },
        {
          "data": {
            "image/png": "[encoded data removed]",
            "text/plain": [
              "<PIL.Image.Image image mode=RGB size=160x120 at 0x7F651371A190>"
            ]
          },
          "metadata": {},
          "output_type": "display_data"
        },
        {
          "data": {
            "image/png": "[encoded data removed]",
            "text/plain": [
              "<PIL.Image.Image image mode=RGB size=160x120 at 0x7F6512EAA1C0>"
            ]
          },
          "metadata": {},
          "output_type": "display_data"
        },
        {
          "data": {
            "image/png": "[encoded data removed]",
            "text/plain": [
              "<PIL.Image.Image image mode=RGB size=160x120 at 0x7F6510F3E8B0>"
            ]
          },
          "metadata": {},
          "output_type": "display_data"
        },
        {
          "data": {
            "image/png": "[encoded data removed]",
            "text/plain": [
              "<PIL.Image.Image image mode=RGB size=160x120 at 0x7F6512EAA1C0>"
            ]
          },
          "metadata": {},
          "output_type": "display_data"
        },
        {
          "data": {
            "image/png": "[encoded data removed]",
            "text/plain": [
              "<PIL.Image.Image image mode=RGB size=160x120 at 0x7F651371A190>"
            ]
          },
          "metadata": {},
          "output_type": "display_data"
        },
        {
          "data": {
            "image/png": "[encoded data removed]",
            "text/plain": [
              "<PIL.Image.Image image mode=RGB size=160x120 at 0x7F6512EE95E0>"
            ]
          },
          "metadata": {},
          "output_type": "display_data"
        },
        {
          "data": {
            "image/png": "[encoded data removed]",
            "text/plain": [
              "<PIL.Image.Image image mode=RGB size=160x120 at 0x7F6510F3E8B0>"
            ]
          },
          "metadata": {},
          "output_type": "display_data"
        },
        {
          "data": {
            "image/png": "[encoded data removed]",
            "text/plain": [
              "<PIL.Image.Image image mode=RGB size=160x120 at 0x7F6512EAA1C0>"
            ]
          },
          "metadata": {},
          "output_type": "display_data"
        },
        {
          "data": {
            "image/png": "[encoded data removed]",
            "text/plain": [
              "<PIL.Image.Image image mode=RGB size=160x120 at 0x7F651371A190>"
            ]
          },
          "metadata": {},
          "output_type": "display_data"
        },
        {
          "data": {
            "image/png": "[encoded data removed]",
            "text/plain": [
              "<PIL.Image.Image image mode=RGB size=160x120 at 0x7F6512F8ED60>"
            ]
          },
          "metadata": {},
          "output_type": "display_data"
        },
        {
          "data": {
            "image/png": "[encoded data removed]",
            "text/plain": [
              "<PIL.Image.Image image mode=RGB size=160x120 at 0x7F6512F8E910>"
            ]
          },
          "metadata": {},
          "output_type": "display_data"
        },
        {
          "data": {
            "image/png": "[encoded data removed]",
            "text/plain": [
              "<PIL.Image.Image image mode=RGB size=160x120 at 0x7F6512F8EA30>"
            ]
          },
          "metadata": {},
          "output_type": "display_data"
        },
        {
          "data": {
            "image/png": "[encoded data removed]",
            "text/plain": [
              "<PIL.Image.Image image mode=RGB size=160x120 at 0x7F6512F8E910>"
            ]
          },
          "metadata": {},
          "output_type": "display_data"
        },
        {
          "data": {
            "image/png": "[encoded data removed]",
            "text/plain": [
              "<PIL.Image.Image image mode=RGB size=160x120 at 0x7F6512F8EA90>"
            ]
          },
          "metadata": {},
          "output_type": "display_data"
        },
        {
          "data": {
            "image/png": "[encoded data removed]",
            "text/plain": [
              "<PIL.Image.Image image mode=RGB size=160x120 at 0x7F6512F8ED60>"
            ]
          },
          "metadata": {},
          "output_type": "display_data"
        },
        {
          "name": "stdout",
          "output_type": "stream",
          "text": [
            "Saving Frames: \n",
            "(120, 160, 3)\n"
          ]
        },
        {
          "data": {
            "image/png": "[encoded data removed]",
            "text/plain": [
              "<PIL.Image.Image image mode=RGB size=160x120 at 0x7F6513478CA0>"
            ]
          },
          "metadata": {},
          "output_type": "display_data"
        },
        {
          "name": "stdout",
          "output_type": "stream",
          "text": [
            "(120, 160, 3)\n"
          ]
        },
        {
          "data": {
            "image/png": "[encoded data removed]",
            "text/plain": [
              "<PIL.Image.Image image mode=RGB size=160x120 at 0x7F6513478CA0>"
            ]
          },
          "metadata": {},
          "output_type": "display_data"
        },
        {
          "name": "stdout",
          "output_type": "stream",
          "text": [
            "(120, 160, 3)\n"
          ]
        },
        {
          "data": {
            "image/png": "[encoded data removed]",
            "text/plain": [
              "<PIL.Image.Image image mode=RGB size=160x120 at 0x7F6512F8EA90>"
            ]
          },
          "metadata": {},
          "output_type": "display_data"
        },
        {
          "name": "stdout",
          "output_type": "stream",
          "text": [
            "(120, 160, 3)\n"
          ]
        },
        {
          "data": {
            "image/png": "[encoded data removed]",
            "text/plain": [
              "<PIL.Image.Image image mode=RGB size=160x120 at 0x7F6512F8E910>"
            ]
          },
          "metadata": {},
          "output_type": "display_data"
        },
        {
          "name": "stdout",
          "output_type": "stream",
          "text": [
            "(120, 160, 3)\n"
          ]
        },
        {
          "data": {
            "image/png": "[encoded data removed]",
            "text/plain": [
              "<PIL.Image.Image image mode=RGB size=160x120 at 0x7F6513478B80>"
            ]
          },
          "metadata": {},
          "output_type": "display_data"
        },
        {
          "name": "stdout",
          "output_type": "stream",
          "text": [
            "(120, 160, 3)\n"
          ]
        },
        {
          "data": {
            "image/png": "[encoded data removed]",
            "text/plain": [
              "<PIL.Image.Image image mode=RGB size=160x120 at 0x7F6510F3E8B0>"
            ]
          },
          "metadata": {},
          "output_type": "display_data"
        },
        {
          "name": "stdout",
          "output_type": "stream",
          "text": [
            "(120, 160, 3)\n"
          ]
        },
        {
          "data": {
            "image/png": "[encoded data removed]",
            "text/plain": [
              "<PIL.Image.Image image mode=RGB size=160x120 at 0x7F6513246D60>"
            ]
          },
          "metadata": {},
          "output_type": "display_data"
        },
        {
          "name": "stdout",
          "output_type": "stream",
          "text": [
            "(120, 160, 3)\n"
          ]
        },
        {
          "data": {
            "image/png": "[encoded data removed]",
            "text/plain": [
              "<PIL.Image.Image image mode=RGB size=160x120 at 0x7F6513246BE0>"
            ]
          },
          "metadata": {},
          "output_type": "display_data"
        },
        {
          "name": "stdout",
          "output_type": "stream",
          "text": [
            "(120, 160, 3)\n"
          ]
        },
        {
          "data": {
            "image/png": "[encoded data removed]",
            "text/plain": [
              "<PIL.Image.Image image mode=RGB size=160x120 at 0x7F6512F8EA30>"
            ]
          },
          "metadata": {},
          "output_type": "display_data"
        },
        {
          "name": "stdout",
          "output_type": "stream",
          "text": [
            "(120, 160, 3)\n"
          ]
        },
        {
          "data": {
            "image/png": "[encoded data removed]",
            "text/plain": [
              "<PIL.Image.Image image mode=RGB size=160x120 at 0x7F6512F8E910>"
            ]
          },
          "metadata": {},
          "output_type": "display_data"
        },
        {
          "name": "stdout",
          "output_type": "stream",
          "text": [
            "(120, 160, 3)\n"
          ]
        },
        {
          "data": {
            "image/png": "[encoded data removed]",
            "text/plain": [
              "<PIL.Image.Image image mode=RGB size=160x120 at 0x7F6513478B80>"
            ]
          },
          "metadata": {},
          "output_type": "display_data"
        },
        {
          "name": "stdout",
          "output_type": "stream",
          "text": [
            "(120, 160, 3)\n"
          ]
        },
        {
          "data": {
            "image/png": "[encoded data removed]",
            "text/plain": [
              "<PIL.Image.Image image mode=RGB size=160x120 at 0x7F6513478C70>"
            ]
          },
          "metadata": {},
          "output_type": "display_data"
        },
        {
          "name": "stdout",
          "output_type": "stream",
          "text": [
            "(120, 160, 3)\n"
          ]
        },
        {
          "data": {
            "image/png": "[encoded data removed]",
            "text/plain": [
              "<PIL.Image.Image image mode=RGB size=160x120 at 0x7F6512F8EA30>"
            ]
          },
          "metadata": {},
          "output_type": "display_data"
        },
        {
          "name": "stdout",
          "output_type": "stream",
          "text": [
            "(120, 160, 3)\n"
          ]
        },
        {
          "data": {
            "image/png": "[encoded data removed]",
            "text/plain": [
              "<PIL.Image.Image image mode=RGB size=160x120 at 0x7F6510F3E8B0>"
            ]
          },
          "metadata": {},
          "output_type": "display_data"
        },
        {
          "name": "stdout",
          "output_type": "stream",
          "text": [
            "(120, 160, 3)\n"
          ]
        },
        {
          "data": {
            "image/png": "[encoded data removed]",
            "text/plain": [
              "<PIL.Image.Image image mode=RGB size=160x120 at 0x7F6512F8ED60>"
            ]
          },
          "metadata": {},
          "output_type": "display_data"
        },
        {
          "name": "stdout",
          "output_type": "stream",
          "text": [
            "(120, 160, 3)\n"
          ]
        },
        {
          "data": {
            "image/png": "[encoded data removed]",
            "text/plain": [
              "<PIL.Image.Image image mode=RGB size=160x120 at 0x7F6513246D60>"
            ]
          },
          "metadata": {},
          "output_type": "display_data"
        },
        {
          "name": "stdout",
          "output_type": "stream",
          "text": [
            "(120, 160, 3)\n"
          ]
        },
        {
          "data": {
            "image/png": "[encoded data removed]",
            "text/plain": [
              "<PIL.Image.Image image mode=RGB size=160x120 at 0x7F6512F8ED60>"
            ]
          },
          "metadata": {},
          "output_type": "display_data"
        },
        {
          "name": "stdout",
          "output_type": "stream",
          "text": [
            "(120, 160, 3)\n"
          ]
        },
        {
          "data": {
            "image/png": "[encoded data removed]",
            "text/plain": [
              "<PIL.Image.Image image mode=RGB size=160x120 at 0x7F651371A190>"
            ]
          },
          "metadata": {},
          "output_type": "display_data"
        },
        {
          "name": "stdout",
          "output_type": "stream",
          "text": [
            "(120, 160, 3)\n"
          ]
        },
        {
          "data": {
            "image/png": "[encoded data removed]",
            "text/plain": [
              "<PIL.Image.Image image mode=RGB size=160x120 at 0x7F6512F8EA90>"
            ]
          },
          "metadata": {},
          "output_type": "display_data"
        },
        {
          "name": "stdout",
          "output_type": "stream",
          "text": [
            "(120, 160, 3)\n"
          ]
        },
        {
          "data": {
            "image/png": "[encoded data removed]",
            "text/plain": [
              "<PIL.Image.Image image mode=RGB size=160x120 at 0x7F6512F8EA90>"
            ]
          },
          "metadata": {},
          "output_type": "display_data"
        },
        {
          "name": "stdout",
          "output_type": "stream",
          "text": [
            "(120, 160, 3)\n"
          ]
        },
        {
          "data": {
            "image/png": "[encoded data removed]",
            "text/plain": [
              "<PIL.Image.Image image mode=RGB size=160x120 at 0x7F6512F8EA30>"
            ]
          },
          "metadata": {},
          "output_type": "display_data"
        },
        {
          "name": "stdout",
          "output_type": "stream",
          "text": [
            "(120, 160, 3)\n"
          ]
        },
        {
          "data": {
            "image/png": "[encoded data removed]",
            "text/plain": [
              "<PIL.Image.Image image mode=RGB size=160x120 at 0x7F6513478B80>"
            ]
          },
          "metadata": {},
          "output_type": "display_data"
        },
        {
          "name": "stdout",
          "output_type": "stream",
          "text": [
            "(120, 160, 3)\n"
          ]
        },
        {
          "data": {
            "image/png": "[encoded data removed]",
            "text/plain": [
              "<PIL.Image.Image image mode=RGB size=160x120 at 0x7F6512F8ED60>"
            ]
          },
          "metadata": {},
          "output_type": "display_data"
        },
        {
          "name": "stdout",
          "output_type": "stream",
          "text": [
            "(120, 160, 3)\n"
          ]
        },
        {
          "data": {
            "image/png": "[encoded data removed]",
            "text/plain": [
              "<PIL.Image.Image image mode=RGB size=160x120 at 0x7F651334EAF0>"
            ]
          },
          "metadata": {},
          "output_type": "display_data"
        },
        {
          "name": "stdout",
          "output_type": "stream",
          "text": [
            "(120, 160, 3)\n"
          ]
        },
        {
          "data": {
            "image/png": "[encoded data removed]",
            "text/plain": [
              "<PIL.Image.Image image mode=RGB size=160x120 at 0x7F6512F8ED60>"
            ]
          },
          "metadata": {},
          "output_type": "display_data"
        },
        {
          "name": "stdout",
          "output_type": "stream",
          "text": [
            "(120, 160, 3)\n"
          ]
        },
        {
          "data": {
            "image/png": "[encoded data removed]",
            "text/plain": [
              "<PIL.Image.Image image mode=RGB size=160x120 at 0x7F6512F8ED60>"
            ]
          },
          "metadata": {},
          "output_type": "display_data"
        },
        {
          "name": "stdout",
          "output_type": "stream",
          "text": [
            "(120, 160, 3)\n"
          ]
        },
        {
          "data": {
            "image/png": "[encoded data removed]",
            "text/plain": [
              "<PIL.Image.Image image mode=RGB size=160x120 at 0x7F6513478B80>"
            ]
          },
          "metadata": {},
          "output_type": "display_data"
        },
        {
          "name": "stdout",
          "output_type": "stream",
          "text": [
            "(120, 160, 3)\n"
          ]
        },
        {
          "data": {
            "image/png": "[encoded data removed]",
            "text/plain": [
              "<PIL.Image.Image image mode=RGB size=160x120 at 0x7F6512F8EA30>"
            ]
          },
          "metadata": {},
          "output_type": "display_data"
        },
        {
          "name": "stdout",
          "output_type": "stream",
          "text": [
            "(120, 160, 3)\n"
          ]
        },
        {
          "data": {
            "image/png": "[encoded data removed]",
            "text/plain": [
              "<PIL.Image.Image image mode=RGB size=160x120 at 0x7F6512F8EA90>"
            ]
          },
          "metadata": {},
          "output_type": "display_data"
        },
        {
          "name": "stdout",
          "output_type": "stream",
          "text": [
            "(120, 160, 3)\n"
          ]
        },
        {
          "data": {
            "image/png": "[encoded data removed]",
            "text/plain": [
              "<PIL.Image.Image image mode=RGB size=160x120 at 0x7F651317A5E0>"
            ]
          },
          "metadata": {},
          "output_type": "display_data"
        },
        {
          "name": "stdout",
          "output_type": "stream",
          "text": [
            "(120, 160, 3)\n"
          ]
        },
        {
          "data": {
            "image/png": "[encoded data removed]",
            "text/plain": [
              "<PIL.Image.Image image mode=RGB size=160x120 at 0x7F651317A5E0>"
            ]
          },
          "metadata": {},
          "output_type": "display_data"
        },
        {
          "name": "stdout",
          "output_type": "stream",
          "text": [
            "(120, 160, 3)\n"
          ]
        },
        {
          "data": {
            "image/png": "[encoded data removed]",
            "text/plain": [
              "<PIL.Image.Image image mode=RGB size=160x120 at 0x7F6512EE95E0>"
            ]
          },
          "metadata": {},
          "output_type": "display_data"
        }
      ],
      "source": [
        "visualize3(y_pred3, 'kmeans_BS')"
      ]
    },
    {
      "cell_type": "markdown",
      "id": "79e9c024-e2db-46c4-aaf6-cfe8fb0588e6",
      "metadata": {
        "id": "79e9c024-e2db-46c4-aaf6-cfe8fb0588e6",
        "jp-MarkdownHeadingCollapsed": true,
        "tags": []
      },
      "source": [
        "## 4. Adaptive (Not part of the assignment)\n",
        "- Reference Paper: http://www.ai.mit.edu/projects/vsam/Publications/stauffer_cvpr98_track.pdf\n",
        "- Video: https://youtu.be/0nz8JMyFF14\n",
        "- This part is just for enthusiasts who want to explore some stuff."
      ]
    },
    {
      "cell_type": "code",
      "execution_count": null,
      "id": "bff2beb4-2bec-451d-89bf-40447c232055",
      "metadata": {
        "colab": {
          "base_uri": "https://localhost:8080/",
          "height": 35
        },
        "execution": {
          "iopub.execute_input": "2023-03-08T07:55:43.637039Z",
          "iopub.status.busy": "2023-03-08T07:55:43.635874Z",
          "iopub.status.idle": "2023-03-08T07:55:43.646623Z",
          "shell.execute_reply": "2023-03-08T07:55:43.644632Z",
          "shell.execute_reply.started": "2023-03-08T07:55:43.636977Z"
        },
        "id": "bff2beb4-2bec-451d-89bf-40447c232055",
        "outputId": "0608cce9-55b4-406a-f2f4-532f3a4dcd85",
        "tags": []
      },
      "outputs": [
        {
          "data": {
            "application/vnd.google.colaboratory.intrinsic+json": {
              "type": "string"
            },
            "text/plain": [
              "'\\nYour code here\\n'"
            ]
          },
          "execution_count": 47,
          "metadata": {},
          "output_type": "execute_result"
        }
      ],
      "source": [
        "\"\"\"\n",
        "Your code here\n",
        "\"\"\""
      ]
    }
  ],
  "metadata": {
    "colab": {
      "provenance": []
    },
    "kernelspec": {
      "display_name": "Python 3.10.6 64-bit",
      "language": "python",
      "name": "python3"
    },
    "language_info": {
      "codemirror_mode": {
        "name": "ipython",
        "version": 3
      },
      "file_extension": ".py",
      "mimetype": "text/x-python",
      "name": "python",
      "nbconvert_exporter": "python",
      "pygments_lexer": "ipython3",
      "version": "3.10.6"
    },
    "vscode": {
      "interpreter": {
        "hash": "916dbcbb3f70747c44a77c7bcd40155683ae19c65e1c03b4aa3499c5328201f1"
      }
    }
  },
  "nbformat": 4,
  "nbformat_minor": 5
}
